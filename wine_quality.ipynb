{
  "nbformat": 4,
  "nbformat_minor": 0,
  "metadata": {
    "kernelspec": {
      "display_name": "Python 3",
      "language": "python",
      "name": "python3"
    },
    "language_info": {
      "codemirror_mode": {
        "name": "ipython",
        "version": 3
      },
      "file_extension": ".py",
      "mimetype": "text/x-python",
      "name": "python",
      "nbconvert_exporter": "python",
      "pygments_lexer": "ipython3",
      "version": "3.8.5"
    },
    "colab": {
      "name": "wine_quality.ipynb",
      "provenance": [],
      "collapsed_sections": [],
      "include_colab_link": true
    }
  },
  "cells": [
    {
      "cell_type": "markdown",
      "metadata": {
        "id": "view-in-github",
        "colab_type": "text"
      },
      "source": [
        "<a href=\"https://colab.research.google.com/github/ClovisL/Wine-Quality/blob/main/wine_quality.ipynb\" target=\"_parent\"><img src=\"https://colab.research.google.com/assets/colab-badge.svg\" alt=\"Open In Colab\"/></a>"
      ]
    },
    {
      "cell_type": "markdown",
      "metadata": {
        "id": "EGBgyWfZMsuO"
      },
      "source": [
        "# Preparing the Data"
      ]
    },
    {
      "cell_type": "code",
      "metadata": {
        "id": "HI5hDdtQc8jF"
      },
      "source": [
        "# Set the seed value for the notebook so the results are reproducible\n",
        "from numpy.random import seed\n",
        "seed(1)"
      ],
      "execution_count": 1,
      "outputs": []
    },
    {
      "cell_type": "code",
      "metadata": {
        "id": "nc3WcJKbdUps"
      },
      "source": [
        "# Dependencies\n",
        "import numpy as np\n",
        "import pandas as pd\n",
        "import tensorflow\n",
        "from sklearn.model_selection import train_test_split\n",
        "from sklearn.preprocessing import StandardScaler\n",
        "import seaborn as sns\n",
        "import matplotlib.pyplot as plt\n",
        "from tensorflow.keras.models import Sequential\n",
        "from sklearn.linear_model import LogisticRegression\n",
        "from sklearn.metrics import confusion_matrix, accuracy_score"
      ],
      "execution_count": 2,
      "outputs": []
    },
    {
      "cell_type": "code",
      "metadata": {
        "colab": {
          "base_uri": "https://localhost:8080/",
          "height": 206
        },
        "id": "-EbqCpdMds52",
        "outputId": "efb223b3-d3c1-4810-d0f5-bdea85b8d3a7"
      },
      "source": [
        "wine = pd.read_csv('https://raw.githubusercontent.com/ClovisL/Wine-Quality/main/Resources/winequality-red.csv')\n",
        "wine.head()"
      ],
      "execution_count": 3,
      "outputs": [
        {
          "output_type": "execute_result",
          "data": {
            "text/html": [
              "\n",
              "  <div id=\"df-6915c4f9-2d61-4f17-b19d-997f15c3b9bb\">\n",
              "    <div class=\"colab-df-container\">\n",
              "      <div>\n",
              "<style scoped>\n",
              "    .dataframe tbody tr th:only-of-type {\n",
              "        vertical-align: middle;\n",
              "    }\n",
              "\n",
              "    .dataframe tbody tr th {\n",
              "        vertical-align: top;\n",
              "    }\n",
              "\n",
              "    .dataframe thead th {\n",
              "        text-align: right;\n",
              "    }\n",
              "</style>\n",
              "<table border=\"1\" class=\"dataframe\">\n",
              "  <thead>\n",
              "    <tr style=\"text-align: right;\">\n",
              "      <th></th>\n",
              "      <th>fixed acidity</th>\n",
              "      <th>volatile acidity</th>\n",
              "      <th>citric acid</th>\n",
              "      <th>residual sugar</th>\n",
              "      <th>chlorides</th>\n",
              "      <th>free sulfur dioxide</th>\n",
              "      <th>total sulfur dioxide</th>\n",
              "      <th>density</th>\n",
              "      <th>pH</th>\n",
              "      <th>sulphates</th>\n",
              "      <th>alcohol</th>\n",
              "      <th>quality</th>\n",
              "    </tr>\n",
              "  </thead>\n",
              "  <tbody>\n",
              "    <tr>\n",
              "      <th>0</th>\n",
              "      <td>7.4</td>\n",
              "      <td>0.70</td>\n",
              "      <td>0.00</td>\n",
              "      <td>1.9</td>\n",
              "      <td>0.076</td>\n",
              "      <td>11.0</td>\n",
              "      <td>34.0</td>\n",
              "      <td>0.9978</td>\n",
              "      <td>3.51</td>\n",
              "      <td>0.56</td>\n",
              "      <td>9.4</td>\n",
              "      <td>5</td>\n",
              "    </tr>\n",
              "    <tr>\n",
              "      <th>1</th>\n",
              "      <td>7.8</td>\n",
              "      <td>0.88</td>\n",
              "      <td>0.00</td>\n",
              "      <td>2.6</td>\n",
              "      <td>0.098</td>\n",
              "      <td>25.0</td>\n",
              "      <td>67.0</td>\n",
              "      <td>0.9968</td>\n",
              "      <td>3.20</td>\n",
              "      <td>0.68</td>\n",
              "      <td>9.8</td>\n",
              "      <td>5</td>\n",
              "    </tr>\n",
              "    <tr>\n",
              "      <th>2</th>\n",
              "      <td>7.8</td>\n",
              "      <td>0.76</td>\n",
              "      <td>0.04</td>\n",
              "      <td>2.3</td>\n",
              "      <td>0.092</td>\n",
              "      <td>15.0</td>\n",
              "      <td>54.0</td>\n",
              "      <td>0.9970</td>\n",
              "      <td>3.26</td>\n",
              "      <td>0.65</td>\n",
              "      <td>9.8</td>\n",
              "      <td>5</td>\n",
              "    </tr>\n",
              "    <tr>\n",
              "      <th>3</th>\n",
              "      <td>11.2</td>\n",
              "      <td>0.28</td>\n",
              "      <td>0.56</td>\n",
              "      <td>1.9</td>\n",
              "      <td>0.075</td>\n",
              "      <td>17.0</td>\n",
              "      <td>60.0</td>\n",
              "      <td>0.9980</td>\n",
              "      <td>3.16</td>\n",
              "      <td>0.58</td>\n",
              "      <td>9.8</td>\n",
              "      <td>6</td>\n",
              "    </tr>\n",
              "    <tr>\n",
              "      <th>4</th>\n",
              "      <td>7.4</td>\n",
              "      <td>0.70</td>\n",
              "      <td>0.00</td>\n",
              "      <td>1.9</td>\n",
              "      <td>0.076</td>\n",
              "      <td>11.0</td>\n",
              "      <td>34.0</td>\n",
              "      <td>0.9978</td>\n",
              "      <td>3.51</td>\n",
              "      <td>0.56</td>\n",
              "      <td>9.4</td>\n",
              "      <td>5</td>\n",
              "    </tr>\n",
              "  </tbody>\n",
              "</table>\n",
              "</div>\n",
              "      <button class=\"colab-df-convert\" onclick=\"convertToInteractive('df-6915c4f9-2d61-4f17-b19d-997f15c3b9bb')\"\n",
              "              title=\"Convert this dataframe to an interactive table.\"\n",
              "              style=\"display:none;\">\n",
              "        \n",
              "  <svg xmlns=\"http://www.w3.org/2000/svg\" height=\"24px\"viewBox=\"0 0 24 24\"\n",
              "       width=\"24px\">\n",
              "    <path d=\"M0 0h24v24H0V0z\" fill=\"none\"/>\n",
              "    <path d=\"M18.56 5.44l.94 2.06.94-2.06 2.06-.94-2.06-.94-.94-2.06-.94 2.06-2.06.94zm-11 1L8.5 8.5l.94-2.06 2.06-.94-2.06-.94L8.5 2.5l-.94 2.06-2.06.94zm10 10l.94 2.06.94-2.06 2.06-.94-2.06-.94-.94-2.06-.94 2.06-2.06.94z\"/><path d=\"M17.41 7.96l-1.37-1.37c-.4-.4-.92-.59-1.43-.59-.52 0-1.04.2-1.43.59L10.3 9.45l-7.72 7.72c-.78.78-.78 2.05 0 2.83L4 21.41c.39.39.9.59 1.41.59.51 0 1.02-.2 1.41-.59l7.78-7.78 2.81-2.81c.8-.78.8-2.07 0-2.86zM5.41 20L4 18.59l7.72-7.72 1.47 1.35L5.41 20z\"/>\n",
              "  </svg>\n",
              "      </button>\n",
              "      \n",
              "  <style>\n",
              "    .colab-df-container {\n",
              "      display:flex;\n",
              "      flex-wrap:wrap;\n",
              "      gap: 12px;\n",
              "    }\n",
              "\n",
              "    .colab-df-convert {\n",
              "      background-color: #E8F0FE;\n",
              "      border: none;\n",
              "      border-radius: 50%;\n",
              "      cursor: pointer;\n",
              "      display: none;\n",
              "      fill: #1967D2;\n",
              "      height: 32px;\n",
              "      padding: 0 0 0 0;\n",
              "      width: 32px;\n",
              "    }\n",
              "\n",
              "    .colab-df-convert:hover {\n",
              "      background-color: #E2EBFA;\n",
              "      box-shadow: 0px 1px 2px rgba(60, 64, 67, 0.3), 0px 1px 3px 1px rgba(60, 64, 67, 0.15);\n",
              "      fill: #174EA6;\n",
              "    }\n",
              "\n",
              "    [theme=dark] .colab-df-convert {\n",
              "      background-color: #3B4455;\n",
              "      fill: #D2E3FC;\n",
              "    }\n",
              "\n",
              "    [theme=dark] .colab-df-convert:hover {\n",
              "      background-color: #434B5C;\n",
              "      box-shadow: 0px 1px 3px 1px rgba(0, 0, 0, 0.15);\n",
              "      filter: drop-shadow(0px 1px 2px rgba(0, 0, 0, 0.3));\n",
              "      fill: #FFFFFF;\n",
              "    }\n",
              "  </style>\n",
              "\n",
              "      <script>\n",
              "        const buttonEl =\n",
              "          document.querySelector('#df-6915c4f9-2d61-4f17-b19d-997f15c3b9bb button.colab-df-convert');\n",
              "        buttonEl.style.display =\n",
              "          google.colab.kernel.accessAllowed ? 'block' : 'none';\n",
              "\n",
              "        async function convertToInteractive(key) {\n",
              "          const element = document.querySelector('#df-6915c4f9-2d61-4f17-b19d-997f15c3b9bb');\n",
              "          const dataTable =\n",
              "            await google.colab.kernel.invokeFunction('convertToInteractive',\n",
              "                                                     [key], {});\n",
              "          if (!dataTable) return;\n",
              "\n",
              "          const docLinkHtml = 'Like what you see? Visit the ' +\n",
              "            '<a target=\"_blank\" href=https://colab.research.google.com/notebooks/data_table.ipynb>data table notebook</a>'\n",
              "            + ' to learn more about interactive tables.';\n",
              "          element.innerHTML = '';\n",
              "          dataTable['output_type'] = 'display_data';\n",
              "          await google.colab.output.renderOutput(dataTable, element);\n",
              "          const docLink = document.createElement('div');\n",
              "          docLink.innerHTML = docLinkHtml;\n",
              "          element.appendChild(docLink);\n",
              "        }\n",
              "      </script>\n",
              "    </div>\n",
              "  </div>\n",
              "  "
            ],
            "text/plain": [
              "   fixed acidity  volatile acidity  citric acid  ...  sulphates  alcohol  quality\n",
              "0            7.4              0.70         0.00  ...       0.56      9.4        5\n",
              "1            7.8              0.88         0.00  ...       0.68      9.8        5\n",
              "2            7.8              0.76         0.04  ...       0.65      9.8        5\n",
              "3           11.2              0.28         0.56  ...       0.58      9.8        6\n",
              "4            7.4              0.70         0.00  ...       0.56      9.4        5\n",
              "\n",
              "[5 rows x 12 columns]"
            ]
          },
          "metadata": {},
          "execution_count": 3
        }
      ]
    },
    {
      "cell_type": "code",
      "metadata": {
        "id": "rpNd2RXNyEq0",
        "colab": {
          "base_uri": "https://localhost:8080/",
          "height": 206
        },
        "outputId": "7c6d094d-ce70-4588-d08b-d59fe8a6e869"
      },
      "source": [
        "# Creates a new column for rating, from bad-average-good\n",
        "reviews = []\n",
        "for i in wine['quality']:\n",
        "    if i >= 1 and i <= 3:\n",
        "        reviews.append('bad')\n",
        "    elif i >= 4 and i <= 7:\n",
        "        reviews.append('average')\n",
        "    elif i >= 8 and i <= 10:\n",
        "        reviews.append('good')\n",
        "wine['rating'] = reviews\n",
        "wine.head()"
      ],
      "execution_count": 4,
      "outputs": [
        {
          "output_type": "execute_result",
          "data": {
            "text/html": [
              "\n",
              "  <div id=\"df-cfaae804-5280-447f-be9d-398ce771f310\">\n",
              "    <div class=\"colab-df-container\">\n",
              "      <div>\n",
              "<style scoped>\n",
              "    .dataframe tbody tr th:only-of-type {\n",
              "        vertical-align: middle;\n",
              "    }\n",
              "\n",
              "    .dataframe tbody tr th {\n",
              "        vertical-align: top;\n",
              "    }\n",
              "\n",
              "    .dataframe thead th {\n",
              "        text-align: right;\n",
              "    }\n",
              "</style>\n",
              "<table border=\"1\" class=\"dataframe\">\n",
              "  <thead>\n",
              "    <tr style=\"text-align: right;\">\n",
              "      <th></th>\n",
              "      <th>fixed acidity</th>\n",
              "      <th>volatile acidity</th>\n",
              "      <th>citric acid</th>\n",
              "      <th>residual sugar</th>\n",
              "      <th>chlorides</th>\n",
              "      <th>free sulfur dioxide</th>\n",
              "      <th>total sulfur dioxide</th>\n",
              "      <th>density</th>\n",
              "      <th>pH</th>\n",
              "      <th>sulphates</th>\n",
              "      <th>alcohol</th>\n",
              "      <th>quality</th>\n",
              "      <th>rating</th>\n",
              "    </tr>\n",
              "  </thead>\n",
              "  <tbody>\n",
              "    <tr>\n",
              "      <th>0</th>\n",
              "      <td>7.4</td>\n",
              "      <td>0.70</td>\n",
              "      <td>0.00</td>\n",
              "      <td>1.9</td>\n",
              "      <td>0.076</td>\n",
              "      <td>11.0</td>\n",
              "      <td>34.0</td>\n",
              "      <td>0.9978</td>\n",
              "      <td>3.51</td>\n",
              "      <td>0.56</td>\n",
              "      <td>9.4</td>\n",
              "      <td>5</td>\n",
              "      <td>average</td>\n",
              "    </tr>\n",
              "    <tr>\n",
              "      <th>1</th>\n",
              "      <td>7.8</td>\n",
              "      <td>0.88</td>\n",
              "      <td>0.00</td>\n",
              "      <td>2.6</td>\n",
              "      <td>0.098</td>\n",
              "      <td>25.0</td>\n",
              "      <td>67.0</td>\n",
              "      <td>0.9968</td>\n",
              "      <td>3.20</td>\n",
              "      <td>0.68</td>\n",
              "      <td>9.8</td>\n",
              "      <td>5</td>\n",
              "      <td>average</td>\n",
              "    </tr>\n",
              "    <tr>\n",
              "      <th>2</th>\n",
              "      <td>7.8</td>\n",
              "      <td>0.76</td>\n",
              "      <td>0.04</td>\n",
              "      <td>2.3</td>\n",
              "      <td>0.092</td>\n",
              "      <td>15.0</td>\n",
              "      <td>54.0</td>\n",
              "      <td>0.9970</td>\n",
              "      <td>3.26</td>\n",
              "      <td>0.65</td>\n",
              "      <td>9.8</td>\n",
              "      <td>5</td>\n",
              "      <td>average</td>\n",
              "    </tr>\n",
              "    <tr>\n",
              "      <th>3</th>\n",
              "      <td>11.2</td>\n",
              "      <td>0.28</td>\n",
              "      <td>0.56</td>\n",
              "      <td>1.9</td>\n",
              "      <td>0.075</td>\n",
              "      <td>17.0</td>\n",
              "      <td>60.0</td>\n",
              "      <td>0.9980</td>\n",
              "      <td>3.16</td>\n",
              "      <td>0.58</td>\n",
              "      <td>9.8</td>\n",
              "      <td>6</td>\n",
              "      <td>average</td>\n",
              "    </tr>\n",
              "    <tr>\n",
              "      <th>4</th>\n",
              "      <td>7.4</td>\n",
              "      <td>0.70</td>\n",
              "      <td>0.00</td>\n",
              "      <td>1.9</td>\n",
              "      <td>0.076</td>\n",
              "      <td>11.0</td>\n",
              "      <td>34.0</td>\n",
              "      <td>0.9978</td>\n",
              "      <td>3.51</td>\n",
              "      <td>0.56</td>\n",
              "      <td>9.4</td>\n",
              "      <td>5</td>\n",
              "      <td>average</td>\n",
              "    </tr>\n",
              "  </tbody>\n",
              "</table>\n",
              "</div>\n",
              "      <button class=\"colab-df-convert\" onclick=\"convertToInteractive('df-cfaae804-5280-447f-be9d-398ce771f310')\"\n",
              "              title=\"Convert this dataframe to an interactive table.\"\n",
              "              style=\"display:none;\">\n",
              "        \n",
              "  <svg xmlns=\"http://www.w3.org/2000/svg\" height=\"24px\"viewBox=\"0 0 24 24\"\n",
              "       width=\"24px\">\n",
              "    <path d=\"M0 0h24v24H0V0z\" fill=\"none\"/>\n",
              "    <path d=\"M18.56 5.44l.94 2.06.94-2.06 2.06-.94-2.06-.94-.94-2.06-.94 2.06-2.06.94zm-11 1L8.5 8.5l.94-2.06 2.06-.94-2.06-.94L8.5 2.5l-.94 2.06-2.06.94zm10 10l.94 2.06.94-2.06 2.06-.94-2.06-.94-.94-2.06-.94 2.06-2.06.94z\"/><path d=\"M17.41 7.96l-1.37-1.37c-.4-.4-.92-.59-1.43-.59-.52 0-1.04.2-1.43.59L10.3 9.45l-7.72 7.72c-.78.78-.78 2.05 0 2.83L4 21.41c.39.39.9.59 1.41.59.51 0 1.02-.2 1.41-.59l7.78-7.78 2.81-2.81c.8-.78.8-2.07 0-2.86zM5.41 20L4 18.59l7.72-7.72 1.47 1.35L5.41 20z\"/>\n",
              "  </svg>\n",
              "      </button>\n",
              "      \n",
              "  <style>\n",
              "    .colab-df-container {\n",
              "      display:flex;\n",
              "      flex-wrap:wrap;\n",
              "      gap: 12px;\n",
              "    }\n",
              "\n",
              "    .colab-df-convert {\n",
              "      background-color: #E8F0FE;\n",
              "      border: none;\n",
              "      border-radius: 50%;\n",
              "      cursor: pointer;\n",
              "      display: none;\n",
              "      fill: #1967D2;\n",
              "      height: 32px;\n",
              "      padding: 0 0 0 0;\n",
              "      width: 32px;\n",
              "    }\n",
              "\n",
              "    .colab-df-convert:hover {\n",
              "      background-color: #E2EBFA;\n",
              "      box-shadow: 0px 1px 2px rgba(60, 64, 67, 0.3), 0px 1px 3px 1px rgba(60, 64, 67, 0.15);\n",
              "      fill: #174EA6;\n",
              "    }\n",
              "\n",
              "    [theme=dark] .colab-df-convert {\n",
              "      background-color: #3B4455;\n",
              "      fill: #D2E3FC;\n",
              "    }\n",
              "\n",
              "    [theme=dark] .colab-df-convert:hover {\n",
              "      background-color: #434B5C;\n",
              "      box-shadow: 0px 1px 3px 1px rgba(0, 0, 0, 0.15);\n",
              "      filter: drop-shadow(0px 1px 2px rgba(0, 0, 0, 0.3));\n",
              "      fill: #FFFFFF;\n",
              "    }\n",
              "  </style>\n",
              "\n",
              "      <script>\n",
              "        const buttonEl =\n",
              "          document.querySelector('#df-cfaae804-5280-447f-be9d-398ce771f310 button.colab-df-convert');\n",
              "        buttonEl.style.display =\n",
              "          google.colab.kernel.accessAllowed ? 'block' : 'none';\n",
              "\n",
              "        async function convertToInteractive(key) {\n",
              "          const element = document.querySelector('#df-cfaae804-5280-447f-be9d-398ce771f310');\n",
              "          const dataTable =\n",
              "            await google.colab.kernel.invokeFunction('convertToInteractive',\n",
              "                                                     [key], {});\n",
              "          if (!dataTable) return;\n",
              "\n",
              "          const docLinkHtml = 'Like what you see? Visit the ' +\n",
              "            '<a target=\"_blank\" href=https://colab.research.google.com/notebooks/data_table.ipynb>data table notebook</a>'\n",
              "            + ' to learn more about interactive tables.';\n",
              "          element.innerHTML = '';\n",
              "          dataTable['output_type'] = 'display_data';\n",
              "          await google.colab.output.renderOutput(dataTable, element);\n",
              "          const docLink = document.createElement('div');\n",
              "          docLink.innerHTML = docLinkHtml;\n",
              "          element.appendChild(docLink);\n",
              "        }\n",
              "      </script>\n",
              "    </div>\n",
              "  </div>\n",
              "  "
            ],
            "text/plain": [
              "   fixed acidity  volatile acidity  citric acid  ...  alcohol  quality   rating\n",
              "0            7.4              0.70         0.00  ...      9.4        5  average\n",
              "1            7.8              0.88         0.00  ...      9.8        5  average\n",
              "2            7.8              0.76         0.04  ...      9.8        5  average\n",
              "3           11.2              0.28         0.56  ...      9.8        6  average\n",
              "4            7.4              0.70         0.00  ...      9.4        5  average\n",
              "\n",
              "[5 rows x 13 columns]"
            ]
          },
          "metadata": {},
          "execution_count": 4
        }
      ]
    },
    {
      "cell_type": "markdown",
      "metadata": {
        "id": "V8_78USFYXV0"
      },
      "source": [
        "# Logistic Regression Model"
      ]
    },
    {
      "cell_type": "code",
      "metadata": {
        "id": "HejxXlKRfndC",
        "colab": {
          "base_uri": "https://localhost:8080/"
        },
        "outputId": "af106564-3603-44c2-c885-40e777989b57"
      },
      "source": [
        "# Set quality column for y values\n",
        "X = wine.drop([\"quality\", \"rating\"], axis=1)\n",
        "y = wine[\"rating\"]\n",
        "print(X.shape, y.shape)"
      ],
      "execution_count": 5,
      "outputs": [
        {
          "output_type": "stream",
          "name": "stdout",
          "text": [
            "(1599, 11) (1599,)\n"
          ]
        }
      ]
    },
    {
      "cell_type": "code",
      "metadata": {
        "id": "IM4crEXhhaZ-"
      },
      "source": [
        "X_train, X_test, y_train, y_test = train_test_split(X, y, random_state=1, test_size=0.25)"
      ],
      "execution_count": 6,
      "outputs": []
    },
    {
      "cell_type": "code",
      "metadata": {
        "id": "G6k2E7Xbte1c"
      },
      "source": [
        "# Standard scaling\n",
        "X_scaler = StandardScaler().fit(X_train)\n",
        "X_train_scaled = X_scaler.transform(X_train)\n",
        "X_test_scaled = X_scaler.transform(X_test)"
      ],
      "execution_count": 7,
      "outputs": []
    },
    {
      "cell_type": "code",
      "metadata": {
        "id": "RQpRdvT5xdMp",
        "colab": {
          "base_uri": "https://localhost:8080/"
        },
        "outputId": "8da49a9d-a505-4a00-ef84-e56837e762b4"
      },
      "source": [
        "model = LogisticRegression()\n",
        "model.fit(X_train, y_train)"
      ],
      "execution_count": 8,
      "outputs": [
        {
          "output_type": "stream",
          "name": "stderr",
          "text": [
            "/usr/local/lib/python3.7/dist-packages/sklearn/linear_model/_logistic.py:818: ConvergenceWarning: lbfgs failed to converge (status=1):\n",
            "STOP: TOTAL NO. of ITERATIONS REACHED LIMIT.\n",
            "\n",
            "Increase the number of iterations (max_iter) or scale the data as shown in:\n",
            "    https://scikit-learn.org/stable/modules/preprocessing.html\n",
            "Please also refer to the documentation for alternative solver options:\n",
            "    https://scikit-learn.org/stable/modules/linear_model.html#logistic-regression\n",
            "  extra_warning_msg=_LOGISTIC_SOLVER_CONVERGENCE_MSG,\n"
          ]
        },
        {
          "output_type": "execute_result",
          "data": {
            "text/plain": [
              "LogisticRegression()"
            ]
          },
          "metadata": {},
          "execution_count": 8
        }
      ]
    },
    {
      "cell_type": "code",
      "metadata": {
        "id": "XmocOtTkzEml"
      },
      "source": [
        "model_predict = model.predict(X_test)"
      ],
      "execution_count": 9,
      "outputs": []
    },
    {
      "cell_type": "code",
      "metadata": {
        "id": "oiQa6WG4yMH5",
        "colab": {
          "base_uri": "https://localhost:8080/"
        },
        "outputId": "1fa668fd-14ad-4b08-eb8e-1c80c81e51c2"
      },
      "source": [
        "model_conf_matrix = confusion_matrix(y_test, model_predict)\n",
        "model_acc_score = accuracy_score(y_test, model_predict)\n",
        "print(model_conf_matrix)\n",
        "print(\"Accuracy: \"+str(model_acc_score*100)+\"%\")"
      ],
      "execution_count": 10,
      "outputs": [
        {
          "output_type": "stream",
          "name": "stdout",
          "text": [
            "[[396   0   0]\n",
            " [  1   0   0]\n",
            " [  3   0   0]]\n",
            "Accuracy: 99.0%\n"
          ]
        }
      ]
    },
    {
      "cell_type": "markdown",
      "metadata": {
        "id": "mH8VYNWvXSC_"
      },
      "source": [
        "# Deep Learning Model"
      ]
    },
    {
      "cell_type": "code",
      "metadata": {
        "id": "tRRH-3-UTKDb",
        "colab": {
          "base_uri": "https://localhost:8080/"
        },
        "outputId": "a3f88744-0ab3-43e3-b908-c2952090d1ab"
      },
      "source": [
        "X = wine.drop([\"quality\", \"rating\"], axis=1)\n",
        "y = wine[\"rating\"]\n",
        "print(X.shape, y.shape)"
      ],
      "execution_count": 11,
      "outputs": [
        {
          "output_type": "stream",
          "name": "stdout",
          "text": [
            "(1599, 11) (1599,)\n"
          ]
        }
      ]
    },
    {
      "cell_type": "code",
      "metadata": {
        "nbgrader": {
          "grade": false,
          "grade_id": "cell-711a82d9b32c83ff",
          "locked": false,
          "schema_version": 1,
          "solution": true
        },
        "id": "OLe3TttzckPs"
      },
      "source": [
        "from sklearn.model_selection import train_test_split\n",
        "from sklearn.preprocessing import LabelEncoder, MinMaxScaler\n",
        "from tensorflow.keras.utils import to_categorical"
      ],
      "execution_count": 12,
      "outputs": []
    },
    {
      "cell_type": "code",
      "metadata": {
        "nbgrader": {
          "grade": false,
          "grade_id": "cell-711a82d9b32c83ff",
          "locked": false,
          "schema_version": 1,
          "solution": true
        },
        "id": "2UIWZh2KckPt"
      },
      "source": [
        "X_train, X_test, y_train, y_test = train_test_split(X, y, random_state=1, test_size=0.25)"
      ],
      "execution_count": 13,
      "outputs": []
    },
    {
      "cell_type": "code",
      "metadata": {
        "nbgrader": {
          "grade": false,
          "grade_id": "cell-711a82d9b32c83ff",
          "locked": false,
          "schema_version": 1,
          "solution": true
        },
        "id": "eFLj6YefckPt"
      },
      "source": [
        "# Using MinMaxScaler\n",
        "X_scaler = MinMaxScaler().fit(X_train)\n",
        "X_train_scaled = X_scaler.transform(X_train)\n",
        "X_test_scaled = X_scaler.transform(X_test)"
      ],
      "execution_count": 14,
      "outputs": []
    },
    {
      "cell_type": "code",
      "metadata": {
        "nbgrader": {
          "grade": false,
          "grade_id": "cell-711a82d9b32c83ff",
          "locked": false,
          "schema_version": 1,
          "solution": true
        },
        "id": "OTz1m9_NckPu"
      },
      "source": [
        "# Step 1: Label-encode data set\n",
        "label_encoder = LabelEncoder()\n",
        "label_encoder.fit(y_train)\n",
        "encoded_y_train = label_encoder.transform(y_train)\n",
        "encoded_y_test = label_encoder.transform(y_test)"
      ],
      "execution_count": 15,
      "outputs": []
    },
    {
      "cell_type": "code",
      "metadata": {
        "nbgrader": {
          "grade": false,
          "grade_id": "cell-711a82d9b32c83ff",
          "locked": false,
          "schema_version": 1,
          "solution": true
        },
        "id": "cxiAVKSAckPu"
      },
      "source": [
        "# Step 2: Convert encoded labels to one-hot-encoding\n",
        "y_train_categorical = to_categorical(encoded_y_train)\n",
        "y_test_categorical = to_categorical(encoded_y_test)"
      ],
      "execution_count": 16,
      "outputs": []
    },
    {
      "cell_type": "code",
      "metadata": {
        "id": "eE1fpv3QckPv"
      },
      "source": [
        "from tensorflow.keras.models import Sequential\n",
        "from tensorflow.keras.layers import Dense"
      ],
      "execution_count": 17,
      "outputs": []
    },
    {
      "cell_type": "code",
      "metadata": {
        "id": "5n6VVZb7ckPv"
      },
      "source": [
        "# Create model and add layers\n",
        "model = Sequential()\n",
        "model.add(Dense(units=8, activation='relu', input_dim=11))\n",
        "model.add(Dense(units=8, activation='relu'))\n",
        "model.add(Dense(units=3, activation='softmax'))"
      ],
      "execution_count": 18,
      "outputs": []
    },
    {
      "cell_type": "code",
      "metadata": {
        "id": "3CMxN8dZckPv"
      },
      "source": [
        "# Compile and fit the model\n",
        "model.compile(optimizer='adam',\n",
        "              loss='categorical_crossentropy',\n",
        "              metrics=['accuracy'])"
      ],
      "execution_count": 19,
      "outputs": []
    },
    {
      "cell_type": "code",
      "metadata": {
        "id": "Pd0nrFumOOtw",
        "colab": {
          "base_uri": "https://localhost:8080/"
        },
        "outputId": "b180dc50-672d-42f1-9827-c4ff165666bc"
      },
      "source": [
        "model.summary()"
      ],
      "execution_count": 20,
      "outputs": [
        {
          "output_type": "stream",
          "name": "stdout",
          "text": [
            "Model: \"sequential\"\n",
            "_________________________________________________________________\n",
            " Layer (type)                Output Shape              Param #   \n",
            "=================================================================\n",
            " dense (Dense)               (None, 8)                 96        \n",
            "                                                                 \n",
            " dense_1 (Dense)             (None, 8)                 72        \n",
            "                                                                 \n",
            " dense_2 (Dense)             (None, 3)                 27        \n",
            "                                                                 \n",
            "=================================================================\n",
            "Total params: 195\n",
            "Trainable params: 195\n",
            "Non-trainable params: 0\n",
            "_________________________________________________________________\n"
          ]
        }
      ]
    },
    {
      "cell_type": "code",
      "metadata": {
        "id": "6fQRpDMLckPv",
        "colab": {
          "base_uri": "https://localhost:8080/"
        },
        "outputId": "ae384811-1d04-48ef-8bea-53491839e134"
      },
      "source": [
        "model.fit(\n",
        "    X_train_scaled,\n",
        "    y_train_categorical,\n",
        "    epochs=100,\n",
        "    shuffle=True,\n",
        "    verbose=2\n",
        ")"
      ],
      "execution_count": 21,
      "outputs": [
        {
          "output_type": "stream",
          "name": "stdout",
          "text": [
            "Epoch 1/100\n",
            "38/38 - 1s - loss: 1.0606 - accuracy: 0.6806 - 1s/epoch - 33ms/step\n",
            "Epoch 2/100\n",
            "38/38 - 0s - loss: 0.8927 - accuracy: 0.9800 - 108ms/epoch - 3ms/step\n",
            "Epoch 3/100\n",
            "38/38 - 0s - loss: 0.6578 - accuracy: 0.9800 - 69ms/epoch - 2ms/step\n",
            "Epoch 4/100\n",
            "38/38 - 0s - loss: 0.4136 - accuracy: 0.9800 - 117ms/epoch - 3ms/step\n",
            "Epoch 5/100\n",
            "38/38 - 0s - loss: 0.2151 - accuracy: 0.9800 - 113ms/epoch - 3ms/step\n",
            "Epoch 6/100\n",
            "38/38 - 0s - loss: 0.1316 - accuracy: 0.9800 - 129ms/epoch - 3ms/step\n",
            "Epoch 7/100\n",
            "38/38 - 0s - loss: 0.1179 - accuracy: 0.9800 - 85ms/epoch - 2ms/step\n",
            "Epoch 8/100\n",
            "38/38 - 0s - loss: 0.1161 - accuracy: 0.9800 - 74ms/epoch - 2ms/step\n",
            "Epoch 9/100\n",
            "38/38 - 0s - loss: 0.1156 - accuracy: 0.9800 - 84ms/epoch - 2ms/step\n",
            "Epoch 10/100\n",
            "38/38 - 0s - loss: 0.1152 - accuracy: 0.9800 - 86ms/epoch - 2ms/step\n",
            "Epoch 11/100\n",
            "38/38 - 0s - loss: 0.1153 - accuracy: 0.9800 - 103ms/epoch - 3ms/step\n",
            "Epoch 12/100\n",
            "38/38 - 0s - loss: 0.1151 - accuracy: 0.9800 - 66ms/epoch - 2ms/step\n",
            "Epoch 13/100\n",
            "38/38 - 0s - loss: 0.1152 - accuracy: 0.9800 - 96ms/epoch - 3ms/step\n",
            "Epoch 14/100\n",
            "38/38 - 0s - loss: 0.1145 - accuracy: 0.9800 - 92ms/epoch - 2ms/step\n",
            "Epoch 15/100\n",
            "38/38 - 0s - loss: 0.1143 - accuracy: 0.9800 - 122ms/epoch - 3ms/step\n",
            "Epoch 16/100\n",
            "38/38 - 0s - loss: 0.1143 - accuracy: 0.9800 - 69ms/epoch - 2ms/step\n",
            "Epoch 17/100\n",
            "38/38 - 0s - loss: 0.1139 - accuracy: 0.9800 - 111ms/epoch - 3ms/step\n",
            "Epoch 18/100\n",
            "38/38 - 0s - loss: 0.1141 - accuracy: 0.9800 - 73ms/epoch - 2ms/step\n",
            "Epoch 19/100\n",
            "38/38 - 0s - loss: 0.1136 - accuracy: 0.9800 - 88ms/epoch - 2ms/step\n",
            "Epoch 20/100\n",
            "38/38 - 0s - loss: 0.1134 - accuracy: 0.9800 - 65ms/epoch - 2ms/step\n",
            "Epoch 21/100\n",
            "38/38 - 0s - loss: 0.1129 - accuracy: 0.9800 - 89ms/epoch - 2ms/step\n",
            "Epoch 22/100\n",
            "38/38 - 0s - loss: 0.1124 - accuracy: 0.9800 - 84ms/epoch - 2ms/step\n",
            "Epoch 23/100\n",
            "38/38 - 0s - loss: 0.1123 - accuracy: 0.9800 - 107ms/epoch - 3ms/step\n",
            "Epoch 24/100\n",
            "38/38 - 0s - loss: 0.1118 - accuracy: 0.9800 - 96ms/epoch - 3ms/step\n",
            "Epoch 25/100\n",
            "38/38 - 0s - loss: 0.1116 - accuracy: 0.9800 - 77ms/epoch - 2ms/step\n",
            "Epoch 26/100\n",
            "38/38 - 0s - loss: 0.1111 - accuracy: 0.9800 - 82ms/epoch - 2ms/step\n",
            "Epoch 27/100\n",
            "38/38 - 0s - loss: 0.1110 - accuracy: 0.9800 - 136ms/epoch - 4ms/step\n",
            "Epoch 28/100\n",
            "38/38 - 0s - loss: 0.1105 - accuracy: 0.9800 - 85ms/epoch - 2ms/step\n",
            "Epoch 29/100\n",
            "38/38 - 0s - loss: 0.1102 - accuracy: 0.9800 - 82ms/epoch - 2ms/step\n",
            "Epoch 30/100\n",
            "38/38 - 0s - loss: 0.1103 - accuracy: 0.9800 - 60ms/epoch - 2ms/step\n",
            "Epoch 31/100\n",
            "38/38 - 0s - loss: 0.1098 - accuracy: 0.9800 - 68ms/epoch - 2ms/step\n",
            "Epoch 32/100\n",
            "38/38 - 0s - loss: 0.1096 - accuracy: 0.9800 - 56ms/epoch - 1ms/step\n",
            "Epoch 33/100\n",
            "38/38 - 0s - loss: 0.1097 - accuracy: 0.9800 - 78ms/epoch - 2ms/step\n",
            "Epoch 34/100\n",
            "38/38 - 0s - loss: 0.1094 - accuracy: 0.9800 - 86ms/epoch - 2ms/step\n",
            "Epoch 35/100\n",
            "38/38 - 0s - loss: 0.1093 - accuracy: 0.9800 - 102ms/epoch - 3ms/step\n",
            "Epoch 36/100\n",
            "38/38 - 0s - loss: 0.1086 - accuracy: 0.9800 - 71ms/epoch - 2ms/step\n",
            "Epoch 37/100\n",
            "38/38 - 0s - loss: 0.1091 - accuracy: 0.9800 - 90ms/epoch - 2ms/step\n",
            "Epoch 38/100\n",
            "38/38 - 0s - loss: 0.1084 - accuracy: 0.9800 - 72ms/epoch - 2ms/step\n",
            "Epoch 39/100\n",
            "38/38 - 0s - loss: 0.1083 - accuracy: 0.9800 - 104ms/epoch - 3ms/step\n",
            "Epoch 40/100\n",
            "38/38 - 0s - loss: 0.1075 - accuracy: 0.9800 - 105ms/epoch - 3ms/step\n",
            "Epoch 41/100\n",
            "38/38 - 0s - loss: 0.1072 - accuracy: 0.9800 - 82ms/epoch - 2ms/step\n",
            "Epoch 42/100\n",
            "38/38 - 0s - loss: 0.1070 - accuracy: 0.9800 - 86ms/epoch - 2ms/step\n",
            "Epoch 43/100\n",
            "38/38 - 0s - loss: 0.1067 - accuracy: 0.9800 - 86ms/epoch - 2ms/step\n",
            "Epoch 44/100\n",
            "38/38 - 0s - loss: 0.1063 - accuracy: 0.9800 - 95ms/epoch - 3ms/step\n",
            "Epoch 45/100\n",
            "38/38 - 0s - loss: 0.1061 - accuracy: 0.9800 - 103ms/epoch - 3ms/step\n",
            "Epoch 46/100\n",
            "38/38 - 0s - loss: 0.1055 - accuracy: 0.9800 - 99ms/epoch - 3ms/step\n",
            "Epoch 47/100\n",
            "38/38 - 0s - loss: 0.1054 - accuracy: 0.9800 - 80ms/epoch - 2ms/step\n",
            "Epoch 48/100\n",
            "38/38 - 0s - loss: 0.1056 - accuracy: 0.9800 - 80ms/epoch - 2ms/step\n",
            "Epoch 49/100\n",
            "38/38 - 0s - loss: 0.1052 - accuracy: 0.9800 - 75ms/epoch - 2ms/step\n",
            "Epoch 50/100\n",
            "38/38 - 0s - loss: 0.1043 - accuracy: 0.9800 - 125ms/epoch - 3ms/step\n",
            "Epoch 51/100\n",
            "38/38 - 0s - loss: 0.1042 - accuracy: 0.9800 - 128ms/epoch - 3ms/step\n",
            "Epoch 52/100\n",
            "38/38 - 0s - loss: 0.1039 - accuracy: 0.9800 - 75ms/epoch - 2ms/step\n",
            "Epoch 53/100\n",
            "38/38 - 0s - loss: 0.1037 - accuracy: 0.9800 - 74ms/epoch - 2ms/step\n",
            "Epoch 54/100\n",
            "38/38 - 0s - loss: 0.1033 - accuracy: 0.9800 - 86ms/epoch - 2ms/step\n",
            "Epoch 55/100\n",
            "38/38 - 0s - loss: 0.1029 - accuracy: 0.9800 - 81ms/epoch - 2ms/step\n",
            "Epoch 56/100\n",
            "38/38 - 0s - loss: 0.1029 - accuracy: 0.9800 - 124ms/epoch - 3ms/step\n",
            "Epoch 57/100\n",
            "38/38 - 0s - loss: 0.1024 - accuracy: 0.9800 - 88ms/epoch - 2ms/step\n",
            "Epoch 58/100\n",
            "38/38 - 0s - loss: 0.1019 - accuracy: 0.9800 - 75ms/epoch - 2ms/step\n",
            "Epoch 59/100\n",
            "38/38 - 0s - loss: 0.1020 - accuracy: 0.9800 - 74ms/epoch - 2ms/step\n",
            "Epoch 60/100\n",
            "38/38 - 0s - loss: 0.1013 - accuracy: 0.9800 - 88ms/epoch - 2ms/step\n",
            "Epoch 61/100\n",
            "38/38 - 0s - loss: 0.1011 - accuracy: 0.9800 - 65ms/epoch - 2ms/step\n",
            "Epoch 62/100\n",
            "38/38 - 0s - loss: 0.1008 - accuracy: 0.9800 - 108ms/epoch - 3ms/step\n",
            "Epoch 63/100\n",
            "38/38 - 0s - loss: 0.1006 - accuracy: 0.9800 - 116ms/epoch - 3ms/step\n",
            "Epoch 64/100\n",
            "38/38 - 0s - loss: 0.0999 - accuracy: 0.9800 - 55ms/epoch - 1ms/step\n",
            "Epoch 65/100\n",
            "38/38 - 0s - loss: 0.1001 - accuracy: 0.9800 - 105ms/epoch - 3ms/step\n",
            "Epoch 66/100\n",
            "38/38 - 0s - loss: 0.0995 - accuracy: 0.9800 - 114ms/epoch - 3ms/step\n",
            "Epoch 67/100\n",
            "38/38 - 0s - loss: 0.0996 - accuracy: 0.9800 - 139ms/epoch - 4ms/step\n",
            "Epoch 68/100\n",
            "38/38 - 0s - loss: 0.0989 - accuracy: 0.9800 - 88ms/epoch - 2ms/step\n",
            "Epoch 69/100\n",
            "38/38 - 0s - loss: 0.0990 - accuracy: 0.9800 - 59ms/epoch - 2ms/step\n",
            "Epoch 70/100\n",
            "38/38 - 0s - loss: 0.0984 - accuracy: 0.9800 - 100ms/epoch - 3ms/step\n",
            "Epoch 71/100\n",
            "38/38 - 0s - loss: 0.0984 - accuracy: 0.9800 - 86ms/epoch - 2ms/step\n",
            "Epoch 72/100\n",
            "38/38 - 0s - loss: 0.0978 - accuracy: 0.9800 - 75ms/epoch - 2ms/step\n",
            "Epoch 73/100\n",
            "38/38 - 0s - loss: 0.0979 - accuracy: 0.9800 - 78ms/epoch - 2ms/step\n",
            "Epoch 74/100\n",
            "38/38 - 0s - loss: 0.0975 - accuracy: 0.9800 - 81ms/epoch - 2ms/step\n",
            "Epoch 75/100\n",
            "38/38 - 0s - loss: 0.0972 - accuracy: 0.9800 - 103ms/epoch - 3ms/step\n",
            "Epoch 76/100\n",
            "38/38 - 0s - loss: 0.0967 - accuracy: 0.9800 - 69ms/epoch - 2ms/step\n",
            "Epoch 77/100\n",
            "38/38 - 0s - loss: 0.0961 - accuracy: 0.9800 - 68ms/epoch - 2ms/step\n",
            "Epoch 78/100\n",
            "38/38 - 0s - loss: 0.0958 - accuracy: 0.9800 - 95ms/epoch - 2ms/step\n",
            "Epoch 79/100\n",
            "38/38 - 0s - loss: 0.0957 - accuracy: 0.9800 - 84ms/epoch - 2ms/step\n",
            "Epoch 80/100\n",
            "38/38 - 0s - loss: 0.0952 - accuracy: 0.9800 - 82ms/epoch - 2ms/step\n",
            "Epoch 81/100\n",
            "38/38 - 0s - loss: 0.0950 - accuracy: 0.9800 - 96ms/epoch - 3ms/step\n",
            "Epoch 82/100\n",
            "38/38 - 0s - loss: 0.0945 - accuracy: 0.9800 - 88ms/epoch - 2ms/step\n",
            "Epoch 83/100\n",
            "38/38 - 0s - loss: 0.0944 - accuracy: 0.9800 - 56ms/epoch - 1ms/step\n",
            "Epoch 84/100\n",
            "38/38 - 0s - loss: 0.0940 - accuracy: 0.9800 - 63ms/epoch - 2ms/step\n",
            "Epoch 85/100\n",
            "38/38 - 0s - loss: 0.0936 - accuracy: 0.9800 - 73ms/epoch - 2ms/step\n",
            "Epoch 86/100\n",
            "38/38 - 0s - loss: 0.0931 - accuracy: 0.9800 - 64ms/epoch - 2ms/step\n",
            "Epoch 87/100\n",
            "38/38 - 0s - loss: 0.0929 - accuracy: 0.9800 - 72ms/epoch - 2ms/step\n",
            "Epoch 88/100\n",
            "38/38 - 0s - loss: 0.0929 - accuracy: 0.9800 - 68ms/epoch - 2ms/step\n",
            "Epoch 89/100\n",
            "38/38 - 0s - loss: 0.0922 - accuracy: 0.9800 - 72ms/epoch - 2ms/step\n",
            "Epoch 90/100\n",
            "38/38 - 0s - loss: 0.0921 - accuracy: 0.9800 - 74ms/epoch - 2ms/step\n",
            "Epoch 91/100\n",
            "38/38 - 0s - loss: 0.0917 - accuracy: 0.9800 - 83ms/epoch - 2ms/step\n",
            "Epoch 92/100\n",
            "38/38 - 0s - loss: 0.0912 - accuracy: 0.9800 - 65ms/epoch - 2ms/step\n",
            "Epoch 93/100\n",
            "38/38 - 0s - loss: 0.0910 - accuracy: 0.9800 - 76ms/epoch - 2ms/step\n",
            "Epoch 94/100\n",
            "38/38 - 0s - loss: 0.0911 - accuracy: 0.9800 - 81ms/epoch - 2ms/step\n",
            "Epoch 95/100\n",
            "38/38 - 0s - loss: 0.0908 - accuracy: 0.9800 - 84ms/epoch - 2ms/step\n",
            "Epoch 96/100\n",
            "38/38 - 0s - loss: 0.0906 - accuracy: 0.9800 - 77ms/epoch - 2ms/step\n",
            "Epoch 97/100\n",
            "38/38 - 0s - loss: 0.0901 - accuracy: 0.9800 - 74ms/epoch - 2ms/step\n",
            "Epoch 98/100\n",
            "38/38 - 0s - loss: 0.0899 - accuracy: 0.9800 - 71ms/epoch - 2ms/step\n",
            "Epoch 99/100\n",
            "38/38 - 0s - loss: 0.0894 - accuracy: 0.9800 - 82ms/epoch - 2ms/step\n",
            "Epoch 100/100\n",
            "38/38 - 0s - loss: 0.0896 - accuracy: 0.9800 - 66ms/epoch - 2ms/step\n"
          ]
        },
        {
          "output_type": "execute_result",
          "data": {
            "text/plain": [
              "<keras.callbacks.History at 0x7f5e26aeb5d0>"
            ]
          },
          "metadata": {},
          "execution_count": 21
        }
      ]
    },
    {
      "cell_type": "code",
      "metadata": {
        "id": "_CHojFoIckPw",
        "colab": {
          "base_uri": "https://localhost:8080/"
        },
        "outputId": "182d5657-792a-46eb-a3ab-f12673142313"
      },
      "source": [
        "# Quantify model\n",
        "model_loss, model_accuracy = model.evaluate(\n",
        "    X_test_scaled, y_test_categorical, verbose=2)\n",
        "print(\n",
        "    f\"Normal Neural Network - Loss: {model_loss}, Accuracy: {model_accuracy*100}%\")"
      ],
      "execution_count": 22,
      "outputs": [
        {
          "output_type": "stream",
          "name": "stdout",
          "text": [
            "13/13 - 0s - loss: 0.0542 - accuracy: 0.9900 - 475ms/epoch - 37ms/step\n",
            "Normal Neural Network - Loss: 0.054152533411979675, Accuracy: 99.00000095367432%\n"
          ]
        }
      ]
    },
    {
      "cell_type": "markdown",
      "metadata": {
        "id": "urkcMz67Is6X"
      },
      "source": [
        "# Models for exact quality score\n",
        "A tree model and a deep learning model that attempt to determine the numerical score from 3-8 for the wines in the data set"
      ]
    },
    {
      "cell_type": "markdown",
      "metadata": {
        "id": "BKlHUQdWCnsF"
      },
      "source": [
        "## Trees Model for exact quality score"
      ]
    },
    {
      "cell_type": "code",
      "metadata": {
        "id": "9CCZcxUPCsUk"
      },
      "source": [
        "from sklearn import tree\n",
        "target = wine[\"quality\"]"
      ],
      "execution_count": 23,
      "outputs": []
    },
    {
      "cell_type": "code",
      "metadata": {
        "colab": {
          "base_uri": "https://localhost:8080/",
          "height": 206
        },
        "id": "ebes5nQbE1sD",
        "outputId": "88ba3f72-eb66-4d0b-b6d1-99196a5b9d44"
      },
      "source": [
        "data = wine.drop([\"quality\", \"rating\"], axis=1)\n",
        "feature_names = data.columns\n",
        "data.head()"
      ],
      "execution_count": 24,
      "outputs": [
        {
          "output_type": "execute_result",
          "data": {
            "text/html": [
              "\n",
              "  <div id=\"df-b4064a52-0c62-491c-b247-b9193d1795aa\">\n",
              "    <div class=\"colab-df-container\">\n",
              "      <div>\n",
              "<style scoped>\n",
              "    .dataframe tbody tr th:only-of-type {\n",
              "        vertical-align: middle;\n",
              "    }\n",
              "\n",
              "    .dataframe tbody tr th {\n",
              "        vertical-align: top;\n",
              "    }\n",
              "\n",
              "    .dataframe thead th {\n",
              "        text-align: right;\n",
              "    }\n",
              "</style>\n",
              "<table border=\"1\" class=\"dataframe\">\n",
              "  <thead>\n",
              "    <tr style=\"text-align: right;\">\n",
              "      <th></th>\n",
              "      <th>fixed acidity</th>\n",
              "      <th>volatile acidity</th>\n",
              "      <th>citric acid</th>\n",
              "      <th>residual sugar</th>\n",
              "      <th>chlorides</th>\n",
              "      <th>free sulfur dioxide</th>\n",
              "      <th>total sulfur dioxide</th>\n",
              "      <th>density</th>\n",
              "      <th>pH</th>\n",
              "      <th>sulphates</th>\n",
              "      <th>alcohol</th>\n",
              "    </tr>\n",
              "  </thead>\n",
              "  <tbody>\n",
              "    <tr>\n",
              "      <th>0</th>\n",
              "      <td>7.4</td>\n",
              "      <td>0.70</td>\n",
              "      <td>0.00</td>\n",
              "      <td>1.9</td>\n",
              "      <td>0.076</td>\n",
              "      <td>11.0</td>\n",
              "      <td>34.0</td>\n",
              "      <td>0.9978</td>\n",
              "      <td>3.51</td>\n",
              "      <td>0.56</td>\n",
              "      <td>9.4</td>\n",
              "    </tr>\n",
              "    <tr>\n",
              "      <th>1</th>\n",
              "      <td>7.8</td>\n",
              "      <td>0.88</td>\n",
              "      <td>0.00</td>\n",
              "      <td>2.6</td>\n",
              "      <td>0.098</td>\n",
              "      <td>25.0</td>\n",
              "      <td>67.0</td>\n",
              "      <td>0.9968</td>\n",
              "      <td>3.20</td>\n",
              "      <td>0.68</td>\n",
              "      <td>9.8</td>\n",
              "    </tr>\n",
              "    <tr>\n",
              "      <th>2</th>\n",
              "      <td>7.8</td>\n",
              "      <td>0.76</td>\n",
              "      <td>0.04</td>\n",
              "      <td>2.3</td>\n",
              "      <td>0.092</td>\n",
              "      <td>15.0</td>\n",
              "      <td>54.0</td>\n",
              "      <td>0.9970</td>\n",
              "      <td>3.26</td>\n",
              "      <td>0.65</td>\n",
              "      <td>9.8</td>\n",
              "    </tr>\n",
              "    <tr>\n",
              "      <th>3</th>\n",
              "      <td>11.2</td>\n",
              "      <td>0.28</td>\n",
              "      <td>0.56</td>\n",
              "      <td>1.9</td>\n",
              "      <td>0.075</td>\n",
              "      <td>17.0</td>\n",
              "      <td>60.0</td>\n",
              "      <td>0.9980</td>\n",
              "      <td>3.16</td>\n",
              "      <td>0.58</td>\n",
              "      <td>9.8</td>\n",
              "    </tr>\n",
              "    <tr>\n",
              "      <th>4</th>\n",
              "      <td>7.4</td>\n",
              "      <td>0.70</td>\n",
              "      <td>0.00</td>\n",
              "      <td>1.9</td>\n",
              "      <td>0.076</td>\n",
              "      <td>11.0</td>\n",
              "      <td>34.0</td>\n",
              "      <td>0.9978</td>\n",
              "      <td>3.51</td>\n",
              "      <td>0.56</td>\n",
              "      <td>9.4</td>\n",
              "    </tr>\n",
              "  </tbody>\n",
              "</table>\n",
              "</div>\n",
              "      <button class=\"colab-df-convert\" onclick=\"convertToInteractive('df-b4064a52-0c62-491c-b247-b9193d1795aa')\"\n",
              "              title=\"Convert this dataframe to an interactive table.\"\n",
              "              style=\"display:none;\">\n",
              "        \n",
              "  <svg xmlns=\"http://www.w3.org/2000/svg\" height=\"24px\"viewBox=\"0 0 24 24\"\n",
              "       width=\"24px\">\n",
              "    <path d=\"M0 0h24v24H0V0z\" fill=\"none\"/>\n",
              "    <path d=\"M18.56 5.44l.94 2.06.94-2.06 2.06-.94-2.06-.94-.94-2.06-.94 2.06-2.06.94zm-11 1L8.5 8.5l.94-2.06 2.06-.94-2.06-.94L8.5 2.5l-.94 2.06-2.06.94zm10 10l.94 2.06.94-2.06 2.06-.94-2.06-.94-.94-2.06-.94 2.06-2.06.94z\"/><path d=\"M17.41 7.96l-1.37-1.37c-.4-.4-.92-.59-1.43-.59-.52 0-1.04.2-1.43.59L10.3 9.45l-7.72 7.72c-.78.78-.78 2.05 0 2.83L4 21.41c.39.39.9.59 1.41.59.51 0 1.02-.2 1.41-.59l7.78-7.78 2.81-2.81c.8-.78.8-2.07 0-2.86zM5.41 20L4 18.59l7.72-7.72 1.47 1.35L5.41 20z\"/>\n",
              "  </svg>\n",
              "      </button>\n",
              "      \n",
              "  <style>\n",
              "    .colab-df-container {\n",
              "      display:flex;\n",
              "      flex-wrap:wrap;\n",
              "      gap: 12px;\n",
              "    }\n",
              "\n",
              "    .colab-df-convert {\n",
              "      background-color: #E8F0FE;\n",
              "      border: none;\n",
              "      border-radius: 50%;\n",
              "      cursor: pointer;\n",
              "      display: none;\n",
              "      fill: #1967D2;\n",
              "      height: 32px;\n",
              "      padding: 0 0 0 0;\n",
              "      width: 32px;\n",
              "    }\n",
              "\n",
              "    .colab-df-convert:hover {\n",
              "      background-color: #E2EBFA;\n",
              "      box-shadow: 0px 1px 2px rgba(60, 64, 67, 0.3), 0px 1px 3px 1px rgba(60, 64, 67, 0.15);\n",
              "      fill: #174EA6;\n",
              "    }\n",
              "\n",
              "    [theme=dark] .colab-df-convert {\n",
              "      background-color: #3B4455;\n",
              "      fill: #D2E3FC;\n",
              "    }\n",
              "\n",
              "    [theme=dark] .colab-df-convert:hover {\n",
              "      background-color: #434B5C;\n",
              "      box-shadow: 0px 1px 3px 1px rgba(0, 0, 0, 0.15);\n",
              "      filter: drop-shadow(0px 1px 2px rgba(0, 0, 0, 0.3));\n",
              "      fill: #FFFFFF;\n",
              "    }\n",
              "  </style>\n",
              "\n",
              "      <script>\n",
              "        const buttonEl =\n",
              "          document.querySelector('#df-b4064a52-0c62-491c-b247-b9193d1795aa button.colab-df-convert');\n",
              "        buttonEl.style.display =\n",
              "          google.colab.kernel.accessAllowed ? 'block' : 'none';\n",
              "\n",
              "        async function convertToInteractive(key) {\n",
              "          const element = document.querySelector('#df-b4064a52-0c62-491c-b247-b9193d1795aa');\n",
              "          const dataTable =\n",
              "            await google.colab.kernel.invokeFunction('convertToInteractive',\n",
              "                                                     [key], {});\n",
              "          if (!dataTable) return;\n",
              "\n",
              "          const docLinkHtml = 'Like what you see? Visit the ' +\n",
              "            '<a target=\"_blank\" href=https://colab.research.google.com/notebooks/data_table.ipynb>data table notebook</a>'\n",
              "            + ' to learn more about interactive tables.';\n",
              "          element.innerHTML = '';\n",
              "          dataTable['output_type'] = 'display_data';\n",
              "          await google.colab.output.renderOutput(dataTable, element);\n",
              "          const docLink = document.createElement('div');\n",
              "          docLink.innerHTML = docLinkHtml;\n",
              "          element.appendChild(docLink);\n",
              "        }\n",
              "      </script>\n",
              "    </div>\n",
              "  </div>\n",
              "  "
            ],
            "text/plain": [
              "   fixed acidity  volatile acidity  citric acid  ...    pH  sulphates  alcohol\n",
              "0            7.4              0.70         0.00  ...  3.51       0.56      9.4\n",
              "1            7.8              0.88         0.00  ...  3.20       0.68      9.8\n",
              "2            7.8              0.76         0.04  ...  3.26       0.65      9.8\n",
              "3           11.2              0.28         0.56  ...  3.16       0.58      9.8\n",
              "4            7.4              0.70         0.00  ...  3.51       0.56      9.4\n",
              "\n",
              "[5 rows x 11 columns]"
            ]
          },
          "metadata": {},
          "execution_count": 24
        }
      ]
    },
    {
      "cell_type": "code",
      "metadata": {
        "id": "jBRlIeRQFRTm"
      },
      "source": [
        "X_train, X_test, y_train, y_test = train_test_split(data, target, random_state=42)"
      ],
      "execution_count": 25,
      "outputs": []
    },
    {
      "cell_type": "code",
      "metadata": {
        "colab": {
          "base_uri": "https://localhost:8080/"
        },
        "id": "fHXDHQLjFUSN",
        "outputId": "101566ab-9ded-485f-dbc3-2f0fdbb72ce1"
      },
      "source": [
        "clf = tree.DecisionTreeClassifier()\n",
        "clf = clf.fit(X_train, y_train)\n",
        "clf.score(X_test, y_test)"
      ],
      "execution_count": 26,
      "outputs": [
        {
          "output_type": "execute_result",
          "data": {
            "text/plain": [
              "0.57"
            ]
          },
          "metadata": {},
          "execution_count": 26
        }
      ]
    },
    {
      "cell_type": "code",
      "metadata": {
        "colab": {
          "base_uri": "https://localhost:8080/"
        },
        "id": "uMfTlXSDGViX",
        "outputId": "ff4785f8-1084-40da-c8dc-14302a92590c"
      },
      "source": [
        "from sklearn.ensemble import RandomForestClassifier\n",
        "rf = RandomForestClassifier(n_estimators=200)\n",
        "rf = rf.fit(X_train, y_train)\n",
        "print(f\"Accuracy: {rf.score(X_test, y_test)*100}%\")"
      ],
      "execution_count": 27,
      "outputs": [
        {
          "output_type": "stream",
          "name": "stdout",
          "text": [
            "Accuracy: 67.5%\n"
          ]
        }
      ]
    },
    {
      "cell_type": "code",
      "metadata": {
        "colab": {
          "base_uri": "https://localhost:8080/"
        },
        "id": "1FUKl-ugGiQM",
        "outputId": "19b2dba7-71a0-43ca-9dac-ce123dd7d965"
      },
      "source": [
        "# Determine which variables are least important\n",
        "sorted(zip(rf.feature_importances_, feature_names), reverse=True)"
      ],
      "execution_count": 28,
      "outputs": [
        {
          "output_type": "execute_result",
          "data": {
            "text/plain": [
              "[(0.14540053067700837, 'alcohol'),\n",
              " (0.1157371938255992, 'sulphates'),\n",
              " (0.10529261941606942, 'total sulfur dioxide'),\n",
              " (0.10260343362817143, 'volatile acidity'),\n",
              " (0.09139598008375867, 'density'),\n",
              " (0.08362098997880432, 'chlorides'),\n",
              " (0.07358834547986286, 'pH'),\n",
              " (0.07219355776211514, 'fixed acidity'),\n",
              " (0.0716697491968824, 'citric acid'),\n",
              " (0.07133355280238213, 'residual sugar'),\n",
              " (0.06716404714934614, 'free sulfur dioxide')]"
            ]
          },
          "metadata": {},
          "execution_count": 28
        }
      ]
    },
    {
      "cell_type": "markdown",
      "metadata": {
        "id": "R7BBl8Ub8HBt"
      },
      "source": [
        "## Deep Learning Model for exact quality score"
      ]
    },
    {
      "cell_type": "code",
      "metadata": {
        "id": "RGCTlrjj8YUl",
        "colab": {
          "base_uri": "https://localhost:8080/"
        },
        "outputId": "58407676-a2c2-42e5-9d07-71678577ce48"
      },
      "source": [
        "# Drop the quality columns, and the free sulfur dioxide as it is the least important\n",
        "X = wine.drop([\"quality\", \"rating\", \"free sulfur dioxide\"], axis=1)\n",
        "y = wine[\"quality\"]\n",
        "print(X.shape, y.shape)"
      ],
      "execution_count": 29,
      "outputs": [
        {
          "output_type": "stream",
          "name": "stdout",
          "text": [
            "(1599, 10) (1599,)\n"
          ]
        }
      ]
    },
    {
      "cell_type": "code",
      "metadata": {
        "id": "ei49vJJC8YlS"
      },
      "source": [
        "X_train, X_test, y_train, y_test = train_test_split(X, y, random_state=1, test_size=0.15)"
      ],
      "execution_count": 30,
      "outputs": []
    },
    {
      "cell_type": "code",
      "metadata": {
        "id": "I2VtRA0Z8Yy0"
      },
      "source": [
        "# Using MinMaxScaler\n",
        "X_scaler = MinMaxScaler().fit(X_train)\n",
        "X_train_scaled = X_scaler.transform(X_train)\n",
        "X_test_scaled = X_scaler.transform(X_test)"
      ],
      "execution_count": 31,
      "outputs": []
    },
    {
      "cell_type": "code",
      "metadata": {
        "id": "FQgLJNjI8Y9O"
      },
      "source": [
        "# Step 1: Label-encode data set\n",
        "label_encoder = LabelEncoder()\n",
        "label_encoder.fit(y_train)\n",
        "encoded_y_train = label_encoder.transform(y_train)\n",
        "encoded_y_test = label_encoder.transform(y_test)"
      ],
      "execution_count": 32,
      "outputs": []
    },
    {
      "cell_type": "code",
      "metadata": {
        "id": "ud6FSaoO8ZGd"
      },
      "source": [
        "# Step 2: Convert encoded labels to one-hot-encoding\n",
        "y_train_categorical = to_categorical(encoded_y_train)\n",
        "y_test_categorical = to_categorical(encoded_y_test)"
      ],
      "execution_count": 33,
      "outputs": []
    },
    {
      "cell_type": "code",
      "metadata": {
        "id": "0BN2EdeT727c"
      },
      "source": [
        "# Create model and add layers\n",
        "model = Sequential()\n",
        "model.add(Dense(units=300, activation='relu', input_dim=10))\n",
        "model.add(Dense(units=200, activation='relu'))\n",
        "model.add(Dense(units=100, activation='relu'))\n",
        "model.add(Dense(units=64, activation='relu'))\n",
        "model.add(Dense(units=32, activation='relu'))\n",
        "model.add(Dense(units=16, activation='relu'))\n",
        "model.add(Dense(units=8, activation='relu'))\n",
        "model.add(Dense(units=8, activation='relu'))\n",
        "model.add(Dense(units=6, activation='softmax'))"
      ],
      "execution_count": 34,
      "outputs": []
    },
    {
      "cell_type": "code",
      "metadata": {
        "id": "JUoZQAKu74b9"
      },
      "source": [
        "# Compile and fit the model\n",
        "model.compile(optimizer='adam',\n",
        "              loss='categorical_crossentropy',\n",
        "              metrics=['accuracy'])"
      ],
      "execution_count": 35,
      "outputs": []
    },
    {
      "cell_type": "code",
      "metadata": {
        "id": "sp5m_okS750Y",
        "colab": {
          "base_uri": "https://localhost:8080/"
        },
        "outputId": "d5433c82-6304-49d3-a331-b31ee94039f0"
      },
      "source": [
        "model.summary()"
      ],
      "execution_count": 36,
      "outputs": [
        {
          "output_type": "stream",
          "name": "stdout",
          "text": [
            "Model: \"sequential_1\"\n",
            "_________________________________________________________________\n",
            " Layer (type)                Output Shape              Param #   \n",
            "=================================================================\n",
            " dense_3 (Dense)             (None, 300)               3300      \n",
            "                                                                 \n",
            " dense_4 (Dense)             (None, 200)               60200     \n",
            "                                                                 \n",
            " dense_5 (Dense)             (None, 100)               20100     \n",
            "                                                                 \n",
            " dense_6 (Dense)             (None, 64)                6464      \n",
            "                                                                 \n",
            " dense_7 (Dense)             (None, 32)                2080      \n",
            "                                                                 \n",
            " dense_8 (Dense)             (None, 16)                528       \n",
            "                                                                 \n",
            " dense_9 (Dense)             (None, 8)                 136       \n",
            "                                                                 \n",
            " dense_10 (Dense)            (None, 8)                 72        \n",
            "                                                                 \n",
            " dense_11 (Dense)            (None, 6)                 54        \n",
            "                                                                 \n",
            "=================================================================\n",
            "Total params: 92,934\n",
            "Trainable params: 92,934\n",
            "Non-trainable params: 0\n",
            "_________________________________________________________________\n"
          ]
        }
      ]
    },
    {
      "cell_type": "code",
      "metadata": {
        "id": "mo9gjf0d76HJ",
        "colab": {
          "base_uri": "https://localhost:8080/"
        },
        "outputId": "c4e42ee8-dc7d-43e8-9285-255372e7fa50"
      },
      "source": [
        "model.fit(\n",
        "    X_train_scaled,\n",
        "    y_train_categorical,\n",
        "    epochs=200,\n",
        "    shuffle=True,\n",
        "    verbose=2\n",
        ")"
      ],
      "execution_count": 37,
      "outputs": [
        {
          "output_type": "stream",
          "name": "stdout",
          "text": [
            "Epoch 1/200\n",
            "43/43 - 2s - loss: 1.5010 - accuracy: 0.4452 - 2s/epoch - 44ms/step\n",
            "Epoch 2/200\n",
            "43/43 - 0s - loss: 1.1896 - accuracy: 0.5254 - 244ms/epoch - 6ms/step\n",
            "Epoch 3/200\n",
            "43/43 - 0s - loss: 1.1414 - accuracy: 0.5673 - 196ms/epoch - 5ms/step\n",
            "Epoch 4/200\n",
            "43/43 - 0s - loss: 1.1258 - accuracy: 0.5401 - 175ms/epoch - 4ms/step\n",
            "Epoch 5/200\n",
            "43/43 - 0s - loss: 1.1140 - accuracy: 0.5644 - 216ms/epoch - 5ms/step\n",
            "Epoch 6/200\n",
            "43/43 - 0s - loss: 1.0919 - accuracy: 0.5717 - 244ms/epoch - 6ms/step\n",
            "Epoch 7/200\n",
            "43/43 - 0s - loss: 1.0936 - accuracy: 0.5467 - 258ms/epoch - 6ms/step\n",
            "Epoch 8/200\n",
            "43/43 - 0s - loss: 1.0848 - accuracy: 0.5703 - 227ms/epoch - 5ms/step\n",
            "Epoch 9/200\n",
            "43/43 - 0s - loss: 1.0816 - accuracy: 0.5460 - 171ms/epoch - 4ms/step\n",
            "Epoch 10/200\n",
            "43/43 - 0s - loss: 1.0648 - accuracy: 0.5556 - 151ms/epoch - 4ms/step\n",
            "Epoch 11/200\n",
            "43/43 - 0s - loss: 1.0643 - accuracy: 0.5622 - 162ms/epoch - 4ms/step\n",
            "Epoch 12/200\n",
            "43/43 - 0s - loss: 1.0564 - accuracy: 0.5769 - 306ms/epoch - 7ms/step\n",
            "Epoch 13/200\n",
            "43/43 - 0s - loss: 1.0532 - accuracy: 0.5666 - 250ms/epoch - 6ms/step\n",
            "Epoch 14/200\n",
            "43/43 - 0s - loss: 1.0602 - accuracy: 0.5740 - 233ms/epoch - 5ms/step\n",
            "Epoch 15/200\n",
            "43/43 - 0s - loss: 1.0393 - accuracy: 0.5725 - 298ms/epoch - 7ms/step\n",
            "Epoch 16/200\n",
            "43/43 - 0s - loss: 1.0273 - accuracy: 0.5916 - 278ms/epoch - 6ms/step\n",
            "Epoch 17/200\n",
            "43/43 - 0s - loss: 1.0237 - accuracy: 0.5820 - 265ms/epoch - 6ms/step\n",
            "Epoch 18/200\n",
            "43/43 - 0s - loss: 1.0295 - accuracy: 0.5762 - 248ms/epoch - 6ms/step\n",
            "Epoch 19/200\n",
            "43/43 - 0s - loss: 1.0090 - accuracy: 0.5857 - 171ms/epoch - 4ms/step\n",
            "Epoch 20/200\n",
            "43/43 - 0s - loss: 1.0008 - accuracy: 0.5843 - 201ms/epoch - 5ms/step\n",
            "Epoch 21/200\n",
            "43/43 - 0s - loss: 1.0124 - accuracy: 0.5835 - 233ms/epoch - 5ms/step\n",
            "Epoch 22/200\n",
            "43/43 - 0s - loss: 0.9842 - accuracy: 0.5865 - 156ms/epoch - 4ms/step\n",
            "Epoch 23/200\n",
            "43/43 - 0s - loss: 0.9765 - accuracy: 0.5968 - 216ms/epoch - 5ms/step\n",
            "Epoch 24/200\n",
            "43/43 - 0s - loss: 0.9756 - accuracy: 0.5916 - 233ms/epoch - 5ms/step\n",
            "Epoch 25/200\n",
            "43/43 - 0s - loss: 0.9560 - accuracy: 0.5975 - 206ms/epoch - 5ms/step\n",
            "Epoch 26/200\n",
            "43/43 - 0s - loss: 0.9457 - accuracy: 0.5946 - 205ms/epoch - 5ms/step\n",
            "Epoch 27/200\n",
            "43/43 - 0s - loss: 0.9456 - accuracy: 0.5960 - 220ms/epoch - 5ms/step\n",
            "Epoch 28/200\n",
            "43/43 - 0s - loss: 0.9386 - accuracy: 0.5990 - 240ms/epoch - 6ms/step\n",
            "Epoch 29/200\n",
            "43/43 - 0s - loss: 0.9517 - accuracy: 0.5909 - 173ms/epoch - 4ms/step\n",
            "Epoch 30/200\n",
            "43/43 - 0s - loss: 0.9356 - accuracy: 0.5938 - 275ms/epoch - 6ms/step\n",
            "Epoch 31/200\n",
            "43/43 - 0s - loss: 0.9309 - accuracy: 0.5865 - 187ms/epoch - 4ms/step\n",
            "Epoch 32/200\n",
            "43/43 - 0s - loss: 0.9162 - accuracy: 0.6026 - 201ms/epoch - 5ms/step\n",
            "Epoch 33/200\n",
            "43/43 - 0s - loss: 0.9205 - accuracy: 0.6012 - 165ms/epoch - 4ms/step\n",
            "Epoch 34/200\n",
            "43/43 - 0s - loss: 0.9114 - accuracy: 0.6166 - 223ms/epoch - 5ms/step\n",
            "Epoch 35/200\n",
            "43/43 - 0s - loss: 0.9064 - accuracy: 0.6078 - 186ms/epoch - 4ms/step\n",
            "Epoch 36/200\n",
            "43/43 - 0s - loss: 0.9049 - accuracy: 0.6071 - 180ms/epoch - 4ms/step\n",
            "Epoch 37/200\n",
            "43/43 - 0s - loss: 0.8989 - accuracy: 0.6100 - 248ms/epoch - 6ms/step\n",
            "Epoch 38/200\n",
            "43/43 - 0s - loss: 0.9043 - accuracy: 0.6049 - 180ms/epoch - 4ms/step\n",
            "Epoch 39/200\n",
            "43/43 - 0s - loss: 0.8861 - accuracy: 0.6218 - 174ms/epoch - 4ms/step\n",
            "Epoch 40/200\n",
            "43/43 - 0s - loss: 0.8780 - accuracy: 0.6328 - 229ms/epoch - 5ms/step\n",
            "Epoch 41/200\n",
            "43/43 - 0s - loss: 0.8984 - accuracy: 0.6144 - 246ms/epoch - 6ms/step\n",
            "Epoch 42/200\n",
            "43/43 - 0s - loss: 0.8731 - accuracy: 0.6387 - 186ms/epoch - 4ms/step\n",
            "Epoch 43/200\n",
            "43/43 - 0s - loss: 0.8756 - accuracy: 0.6210 - 260ms/epoch - 6ms/step\n",
            "Epoch 44/200\n",
            "43/43 - 0s - loss: 0.8658 - accuracy: 0.6321 - 229ms/epoch - 5ms/step\n",
            "Epoch 45/200\n",
            "43/43 - 0s - loss: 0.8664 - accuracy: 0.6336 - 239ms/epoch - 6ms/step\n",
            "Epoch 46/200\n",
            "43/43 - 0s - loss: 0.8622 - accuracy: 0.6424 - 249ms/epoch - 6ms/step\n",
            "Epoch 47/200\n",
            "43/43 - 0s - loss: 0.8477 - accuracy: 0.6431 - 262ms/epoch - 6ms/step\n",
            "Epoch 48/200\n",
            "43/43 - 0s - loss: 0.8403 - accuracy: 0.6497 - 175ms/epoch - 4ms/step\n",
            "Epoch 49/200\n",
            "43/43 - 0s - loss: 0.8450 - accuracy: 0.6497 - 248ms/epoch - 6ms/step\n",
            "Epoch 50/200\n",
            "43/43 - 0s - loss: 0.8783 - accuracy: 0.6306 - 251ms/epoch - 6ms/step\n",
            "Epoch 51/200\n",
            "43/43 - 0s - loss: 0.8308 - accuracy: 0.6505 - 274ms/epoch - 6ms/step\n",
            "Epoch 52/200\n",
            "43/43 - 0s - loss: 0.8352 - accuracy: 0.6549 - 213ms/epoch - 5ms/step\n",
            "Epoch 53/200\n",
            "43/43 - 0s - loss: 0.8247 - accuracy: 0.6475 - 258ms/epoch - 6ms/step\n",
            "Epoch 54/200\n",
            "43/43 - 0s - loss: 0.8232 - accuracy: 0.6608 - 242ms/epoch - 6ms/step\n",
            "Epoch 55/200\n",
            "43/43 - 0s - loss: 0.8248 - accuracy: 0.6637 - 199ms/epoch - 5ms/step\n",
            "Epoch 56/200\n",
            "43/43 - 0s - loss: 0.8186 - accuracy: 0.6674 - 226ms/epoch - 5ms/step\n",
            "Epoch 57/200\n",
            "43/43 - 0s - loss: 0.8133 - accuracy: 0.6593 - 247ms/epoch - 6ms/step\n",
            "Epoch 58/200\n",
            "43/43 - 0s - loss: 0.8345 - accuracy: 0.6505 - 291ms/epoch - 7ms/step\n",
            "Epoch 59/200\n",
            "43/43 - 0s - loss: 0.8114 - accuracy: 0.6637 - 271ms/epoch - 6ms/step\n",
            "Epoch 60/200\n",
            "43/43 - 0s - loss: 0.7952 - accuracy: 0.6637 - 207ms/epoch - 5ms/step\n",
            "Epoch 61/200\n",
            "43/43 - 0s - loss: 0.7979 - accuracy: 0.6703 - 282ms/epoch - 7ms/step\n",
            "Epoch 62/200\n",
            "43/43 - 0s - loss: 0.8424 - accuracy: 0.6313 - 234ms/epoch - 5ms/step\n",
            "Epoch 63/200\n",
            "43/43 - 0s - loss: 0.8000 - accuracy: 0.6623 - 187ms/epoch - 4ms/step\n",
            "Epoch 64/200\n",
            "43/43 - 0s - loss: 0.7793 - accuracy: 0.6733 - 193ms/epoch - 4ms/step\n",
            "Epoch 65/200\n",
            "43/43 - 0s - loss: 0.7819 - accuracy: 0.6740 - 180ms/epoch - 4ms/step\n",
            "Epoch 66/200\n",
            "43/43 - 0s - loss: 0.7717 - accuracy: 0.6689 - 210ms/epoch - 5ms/step\n",
            "Epoch 67/200\n",
            "43/43 - 0s - loss: 0.7628 - accuracy: 0.6733 - 187ms/epoch - 4ms/step\n",
            "Epoch 68/200\n",
            "43/43 - 0s - loss: 0.7619 - accuracy: 0.6792 - 169ms/epoch - 4ms/step\n",
            "Epoch 69/200\n",
            "43/43 - 0s - loss: 0.7573 - accuracy: 0.6792 - 236ms/epoch - 5ms/step\n",
            "Epoch 70/200\n",
            "43/43 - 0s - loss: 0.7750 - accuracy: 0.6645 - 255ms/epoch - 6ms/step\n",
            "Epoch 71/200\n",
            "43/43 - 0s - loss: 0.7533 - accuracy: 0.6806 - 227ms/epoch - 5ms/step\n",
            "Epoch 72/200\n",
            "43/43 - 0s - loss: 0.7598 - accuracy: 0.6784 - 221ms/epoch - 5ms/step\n",
            "Epoch 73/200\n",
            "43/43 - 0s - loss: 0.7577 - accuracy: 0.6740 - 211ms/epoch - 5ms/step\n",
            "Epoch 74/200\n",
            "43/43 - 0s - loss: 0.7611 - accuracy: 0.6799 - 218ms/epoch - 5ms/step\n",
            "Epoch 75/200\n",
            "43/43 - 1s - loss: 0.7287 - accuracy: 0.6902 - 563ms/epoch - 13ms/step\n",
            "Epoch 76/200\n",
            "43/43 - 0s - loss: 0.7466 - accuracy: 0.6873 - 193ms/epoch - 4ms/step\n",
            "Epoch 77/200\n",
            "43/43 - 0s - loss: 0.7202 - accuracy: 0.6873 - 181ms/epoch - 4ms/step\n",
            "Epoch 78/200\n",
            "43/43 - 0s - loss: 0.7179 - accuracy: 0.6770 - 216ms/epoch - 5ms/step\n",
            "Epoch 79/200\n",
            "43/43 - 0s - loss: 0.7102 - accuracy: 0.6917 - 230ms/epoch - 5ms/step\n",
            "Epoch 80/200\n",
            "43/43 - 0s - loss: 0.7069 - accuracy: 0.6998 - 240ms/epoch - 6ms/step\n",
            "Epoch 81/200\n",
            "43/43 - 0s - loss: 0.7051 - accuracy: 0.7042 - 192ms/epoch - 4ms/step\n",
            "Epoch 82/200\n",
            "43/43 - 0s - loss: 0.7319 - accuracy: 0.6909 - 188ms/epoch - 4ms/step\n",
            "Epoch 83/200\n",
            "43/43 - 0s - loss: 0.7082 - accuracy: 0.7042 - 241ms/epoch - 6ms/step\n",
            "Epoch 84/200\n",
            "43/43 - 0s - loss: 0.6826 - accuracy: 0.7005 - 227ms/epoch - 5ms/step\n",
            "Epoch 85/200\n",
            "43/43 - 0s - loss: 0.6794 - accuracy: 0.7093 - 230ms/epoch - 5ms/step\n",
            "Epoch 86/200\n",
            "43/43 - 0s - loss: 0.6769 - accuracy: 0.7167 - 233ms/epoch - 5ms/step\n",
            "Epoch 87/200\n",
            "43/43 - 0s - loss: 0.6620 - accuracy: 0.7101 - 253ms/epoch - 6ms/step\n",
            "Epoch 88/200\n",
            "43/43 - 0s - loss: 0.6589 - accuracy: 0.7174 - 241ms/epoch - 6ms/step\n",
            "Epoch 89/200\n",
            "43/43 - 0s - loss: 0.6457 - accuracy: 0.7344 - 220ms/epoch - 5ms/step\n",
            "Epoch 90/200\n",
            "43/43 - 0s - loss: 0.6317 - accuracy: 0.7329 - 236ms/epoch - 5ms/step\n",
            "Epoch 91/200\n",
            "43/43 - 0s - loss: 0.6495 - accuracy: 0.7233 - 194ms/epoch - 5ms/step\n",
            "Epoch 92/200\n",
            "43/43 - 0s - loss: 0.6236 - accuracy: 0.7329 - 180ms/epoch - 4ms/step\n",
            "Epoch 93/200\n",
            "43/43 - 0s - loss: 0.6481 - accuracy: 0.7174 - 248ms/epoch - 6ms/step\n",
            "Epoch 94/200\n",
            "43/43 - 0s - loss: 0.6471 - accuracy: 0.7211 - 275ms/epoch - 6ms/step\n",
            "Epoch 95/200\n",
            "43/43 - 0s - loss: 0.6387 - accuracy: 0.7314 - 224ms/epoch - 5ms/step\n",
            "Epoch 96/200\n",
            "43/43 - 0s - loss: 0.6355 - accuracy: 0.7196 - 224ms/epoch - 5ms/step\n",
            "Epoch 97/200\n",
            "43/43 - 0s - loss: 0.6597 - accuracy: 0.7263 - 172ms/epoch - 4ms/step\n",
            "Epoch 98/200\n",
            "43/43 - 0s - loss: 0.6456 - accuracy: 0.7263 - 260ms/epoch - 6ms/step\n",
            "Epoch 99/200\n",
            "43/43 - 0s - loss: 0.6033 - accuracy: 0.7380 - 224ms/epoch - 5ms/step\n",
            "Epoch 100/200\n",
            "43/43 - 0s - loss: 0.6162 - accuracy: 0.7395 - 218ms/epoch - 5ms/step\n",
            "Epoch 101/200\n",
            "43/43 - 0s - loss: 0.6037 - accuracy: 0.7373 - 267ms/epoch - 6ms/step\n",
            "Epoch 102/200\n",
            "43/43 - 0s - loss: 0.5815 - accuracy: 0.7586 - 179ms/epoch - 4ms/step\n",
            "Epoch 103/200\n",
            "43/43 - 0s - loss: 0.5903 - accuracy: 0.7586 - 230ms/epoch - 5ms/step\n",
            "Epoch 104/200\n",
            "43/43 - 0s - loss: 0.5857 - accuracy: 0.7439 - 220ms/epoch - 5ms/step\n",
            "Epoch 105/200\n",
            "43/43 - 0s - loss: 0.5664 - accuracy: 0.7439 - 247ms/epoch - 6ms/step\n",
            "Epoch 106/200\n",
            "43/43 - 0s - loss: 0.5791 - accuracy: 0.7483 - 215ms/epoch - 5ms/step\n",
            "Epoch 107/200\n",
            "43/43 - 0s - loss: 0.5570 - accuracy: 0.7586 - 224ms/epoch - 5ms/step\n",
            "Epoch 108/200\n",
            "43/43 - 0s - loss: 0.5771 - accuracy: 0.7535 - 228ms/epoch - 5ms/step\n",
            "Epoch 109/200\n",
            "43/43 - 0s - loss: 0.5466 - accuracy: 0.7763 - 184ms/epoch - 4ms/step\n",
            "Epoch 110/200\n",
            "43/43 - 0s - loss: 0.5713 - accuracy: 0.7675 - 156ms/epoch - 4ms/step\n",
            "Epoch 111/200\n",
            "43/43 - 0s - loss: 0.5846 - accuracy: 0.7461 - 179ms/epoch - 4ms/step\n",
            "Epoch 112/200\n",
            "43/43 - 0s - loss: 0.5404 - accuracy: 0.7770 - 227ms/epoch - 5ms/step\n",
            "Epoch 113/200\n",
            "43/43 - 0s - loss: 0.5232 - accuracy: 0.7873 - 230ms/epoch - 5ms/step\n",
            "Epoch 114/200\n",
            "43/43 - 0s - loss: 0.5183 - accuracy: 0.7800 - 250ms/epoch - 6ms/step\n",
            "Epoch 115/200\n",
            "43/43 - 0s - loss: 0.5011 - accuracy: 0.8160 - 248ms/epoch - 6ms/step\n",
            "Epoch 116/200\n",
            "43/43 - 0s - loss: 0.5035 - accuracy: 0.8021 - 214ms/epoch - 5ms/step\n",
            "Epoch 117/200\n",
            "43/43 - 0s - loss: 0.5288 - accuracy: 0.7910 - 232ms/epoch - 5ms/step\n",
            "Epoch 118/200\n",
            "43/43 - 0s - loss: 0.5389 - accuracy: 0.7881 - 210ms/epoch - 5ms/step\n",
            "Epoch 119/200\n",
            "43/43 - 0s - loss: 0.5338 - accuracy: 0.7785 - 219ms/epoch - 5ms/step\n",
            "Epoch 120/200\n",
            "43/43 - 0s - loss: 0.5012 - accuracy: 0.7947 - 253ms/epoch - 6ms/step\n",
            "Epoch 121/200\n",
            "43/43 - 0s - loss: 0.4971 - accuracy: 0.7999 - 237ms/epoch - 6ms/step\n",
            "Epoch 122/200\n",
            "43/43 - 0s - loss: 0.5007 - accuracy: 0.8013 - 261ms/epoch - 6ms/step\n",
            "Epoch 123/200\n",
            "43/43 - 0s - loss: 0.4752 - accuracy: 0.8028 - 186ms/epoch - 4ms/step\n",
            "Epoch 124/200\n",
            "43/43 - 0s - loss: 0.4589 - accuracy: 0.8153 - 157ms/epoch - 4ms/step\n",
            "Epoch 125/200\n",
            "43/43 - 0s - loss: 0.4972 - accuracy: 0.7807 - 157ms/epoch - 4ms/step\n",
            "Epoch 126/200\n",
            "43/43 - 0s - loss: 0.4471 - accuracy: 0.8263 - 143ms/epoch - 3ms/step\n",
            "Epoch 127/200\n",
            "43/43 - 0s - loss: 0.4530 - accuracy: 0.8190 - 143ms/epoch - 3ms/step\n",
            "Epoch 128/200\n",
            "43/43 - 0s - loss: 0.4553 - accuracy: 0.8087 - 138ms/epoch - 3ms/step\n",
            "Epoch 129/200\n",
            "43/43 - 0s - loss: 0.4326 - accuracy: 0.8256 - 148ms/epoch - 3ms/step\n",
            "Epoch 130/200\n",
            "43/43 - 0s - loss: 0.4429 - accuracy: 0.8212 - 136ms/epoch - 3ms/step\n",
            "Epoch 131/200\n",
            "43/43 - 0s - loss: 0.4189 - accuracy: 0.8315 - 153ms/epoch - 4ms/step\n",
            "Epoch 132/200\n",
            "43/43 - 0s - loss: 0.4310 - accuracy: 0.8160 - 164ms/epoch - 4ms/step\n",
            "Epoch 133/200\n",
            "43/43 - 0s - loss: 0.4053 - accuracy: 0.8366 - 162ms/epoch - 4ms/step\n",
            "Epoch 134/200\n",
            "43/43 - 0s - loss: 0.4040 - accuracy: 0.8411 - 148ms/epoch - 3ms/step\n",
            "Epoch 135/200\n",
            "43/43 - 0s - loss: 0.4054 - accuracy: 0.8411 - 141ms/epoch - 3ms/step\n",
            "Epoch 136/200\n",
            "43/43 - 0s - loss: 0.4042 - accuracy: 0.8366 - 153ms/epoch - 4ms/step\n",
            "Epoch 137/200\n",
            "43/43 - 0s - loss: 0.4471 - accuracy: 0.8212 - 173ms/epoch - 4ms/step\n",
            "Epoch 138/200\n",
            "43/43 - 0s - loss: 0.4595 - accuracy: 0.8175 - 168ms/epoch - 4ms/step\n",
            "Epoch 139/200\n",
            "43/43 - 0s - loss: 0.4444 - accuracy: 0.8344 - 141ms/epoch - 3ms/step\n",
            "Epoch 140/200\n",
            "43/43 - 0s - loss: 0.4380 - accuracy: 0.8241 - 145ms/epoch - 3ms/step\n",
            "Epoch 141/200\n",
            "43/43 - 0s - loss: 0.3740 - accuracy: 0.8536 - 139ms/epoch - 3ms/step\n",
            "Epoch 142/200\n",
            "43/43 - 0s - loss: 0.3464 - accuracy: 0.8602 - 147ms/epoch - 3ms/step\n",
            "Epoch 143/200\n",
            "43/43 - 0s - loss: 0.3776 - accuracy: 0.8455 - 135ms/epoch - 3ms/step\n",
            "Epoch 144/200\n",
            "43/43 - 0s - loss: 0.3796 - accuracy: 0.8374 - 142ms/epoch - 3ms/step\n",
            "Epoch 145/200\n",
            "43/43 - 0s - loss: 0.3395 - accuracy: 0.8698 - 148ms/epoch - 3ms/step\n",
            "Epoch 146/200\n",
            "43/43 - 0s - loss: 0.3488 - accuracy: 0.8675 - 143ms/epoch - 3ms/step\n",
            "Epoch 147/200\n",
            "43/43 - 0s - loss: 0.4127 - accuracy: 0.8293 - 137ms/epoch - 3ms/step\n",
            "Epoch 148/200\n",
            "43/43 - 0s - loss: 0.3271 - accuracy: 0.8749 - 136ms/epoch - 3ms/step\n",
            "Epoch 149/200\n",
            "43/43 - 0s - loss: 0.3068 - accuracy: 0.8815 - 163ms/epoch - 4ms/step\n",
            "Epoch 150/200\n",
            "43/43 - 0s - loss: 0.3161 - accuracy: 0.8808 - 149ms/epoch - 3ms/step\n",
            "Epoch 151/200\n",
            "43/43 - 0s - loss: 0.3126 - accuracy: 0.8808 - 144ms/epoch - 3ms/step\n",
            "Epoch 152/200\n",
            "43/43 - 0s - loss: 0.3273 - accuracy: 0.8705 - 153ms/epoch - 4ms/step\n",
            "Epoch 153/200\n",
            "43/43 - 0s - loss: 0.3060 - accuracy: 0.8756 - 159ms/epoch - 4ms/step\n",
            "Epoch 154/200\n",
            "43/43 - 0s - loss: 0.3159 - accuracy: 0.8793 - 145ms/epoch - 3ms/step\n",
            "Epoch 155/200\n",
            "43/43 - 0s - loss: 0.3354 - accuracy: 0.8742 - 152ms/epoch - 4ms/step\n",
            "Epoch 156/200\n",
            "43/43 - 0s - loss: 0.3099 - accuracy: 0.8808 - 166ms/epoch - 4ms/step\n",
            "Epoch 157/200\n",
            "43/43 - 0s - loss: 0.2991 - accuracy: 0.8830 - 143ms/epoch - 3ms/step\n",
            "Epoch 158/200\n",
            "43/43 - 0s - loss: 0.3090 - accuracy: 0.8808 - 157ms/epoch - 4ms/step\n",
            "Epoch 159/200\n",
            "43/43 - 0s - loss: 0.2751 - accuracy: 0.8962 - 147ms/epoch - 3ms/step\n",
            "Epoch 160/200\n",
            "43/43 - 0s - loss: 0.3163 - accuracy: 0.8764 - 146ms/epoch - 3ms/step\n",
            "Epoch 161/200\n",
            "43/43 - 0s - loss: 0.2943 - accuracy: 0.8896 - 150ms/epoch - 3ms/step\n",
            "Epoch 162/200\n",
            "43/43 - 0s - loss: 0.2810 - accuracy: 0.8882 - 175ms/epoch - 4ms/step\n",
            "Epoch 163/200\n",
            "43/43 - 0s - loss: 0.3249 - accuracy: 0.8771 - 149ms/epoch - 3ms/step\n",
            "Epoch 164/200\n",
            "43/43 - 0s - loss: 0.2875 - accuracy: 0.8845 - 158ms/epoch - 4ms/step\n",
            "Epoch 165/200\n",
            "43/43 - 0s - loss: 0.3036 - accuracy: 0.8852 - 157ms/epoch - 4ms/step\n",
            "Epoch 166/200\n",
            "43/43 - 0s - loss: 0.2471 - accuracy: 0.9095 - 149ms/epoch - 3ms/step\n",
            "Epoch 167/200\n",
            "43/43 - 0s - loss: 0.2380 - accuracy: 0.9161 - 142ms/epoch - 3ms/step\n",
            "Epoch 168/200\n",
            "43/43 - 0s - loss: 0.2438 - accuracy: 0.9095 - 143ms/epoch - 3ms/step\n",
            "Epoch 169/200\n",
            "43/43 - 0s - loss: 0.2309 - accuracy: 0.9117 - 159ms/epoch - 4ms/step\n",
            "Epoch 170/200\n",
            "43/43 - 0s - loss: 0.2994 - accuracy: 0.8808 - 153ms/epoch - 4ms/step\n",
            "Epoch 171/200\n",
            "43/43 - 0s - loss: 0.3546 - accuracy: 0.8646 - 143ms/epoch - 3ms/step\n",
            "Epoch 172/200\n",
            "43/43 - 0s - loss: 0.2764 - accuracy: 0.8970 - 150ms/epoch - 3ms/step\n",
            "Epoch 173/200\n",
            "43/43 - 0s - loss: 0.2912 - accuracy: 0.8815 - 139ms/epoch - 3ms/step\n",
            "Epoch 174/200\n",
            "43/43 - 0s - loss: 0.2489 - accuracy: 0.9065 - 130ms/epoch - 3ms/step\n",
            "Epoch 175/200\n",
            "43/43 - 0s - loss: 0.2175 - accuracy: 0.9169 - 137ms/epoch - 3ms/step\n",
            "Epoch 176/200\n",
            "43/43 - 0s - loss: 0.2222 - accuracy: 0.9176 - 151ms/epoch - 4ms/step\n",
            "Epoch 177/200\n",
            "43/43 - 0s - loss: 0.2283 - accuracy: 0.9058 - 140ms/epoch - 3ms/step\n",
            "Epoch 178/200\n",
            "43/43 - 0s - loss: 0.2580 - accuracy: 0.8970 - 141ms/epoch - 3ms/step\n",
            "Epoch 179/200\n",
            "43/43 - 0s - loss: 0.3131 - accuracy: 0.8661 - 142ms/epoch - 3ms/step\n",
            "Epoch 180/200\n",
            "43/43 - 0s - loss: 0.2249 - accuracy: 0.9169 - 138ms/epoch - 3ms/step\n",
            "Epoch 181/200\n",
            "43/43 - 0s - loss: 0.2203 - accuracy: 0.9191 - 141ms/epoch - 3ms/step\n",
            "Epoch 182/200\n",
            "43/43 - 0s - loss: 0.2104 - accuracy: 0.9249 - 138ms/epoch - 3ms/step\n",
            "Epoch 183/200\n",
            "43/43 - 0s - loss: 0.2421 - accuracy: 0.9088 - 150ms/epoch - 3ms/step\n",
            "Epoch 184/200\n",
            "43/43 - 0s - loss: 0.2260 - accuracy: 0.9102 - 137ms/epoch - 3ms/step\n",
            "Epoch 185/200\n",
            "43/43 - 0s - loss: 0.2214 - accuracy: 0.9117 - 137ms/epoch - 3ms/step\n",
            "Epoch 186/200\n",
            "43/43 - 0s - loss: 0.2126 - accuracy: 0.9286 - 137ms/epoch - 3ms/step\n",
            "Epoch 187/200\n",
            "43/43 - 0s - loss: 0.1625 - accuracy: 0.9411 - 133ms/epoch - 3ms/step\n",
            "Epoch 188/200\n",
            "43/43 - 0s - loss: 0.1819 - accuracy: 0.9316 - 128ms/epoch - 3ms/step\n",
            "Epoch 189/200\n",
            "43/43 - 0s - loss: 0.1579 - accuracy: 0.9441 - 135ms/epoch - 3ms/step\n",
            "Epoch 190/200\n",
            "43/43 - 0s - loss: 0.2222 - accuracy: 0.9169 - 163ms/epoch - 4ms/step\n",
            "Epoch 191/200\n",
            "43/43 - 0s - loss: 0.2004 - accuracy: 0.9242 - 143ms/epoch - 3ms/step\n",
            "Epoch 192/200\n",
            "43/43 - 0s - loss: 0.2072 - accuracy: 0.9242 - 137ms/epoch - 3ms/step\n",
            "Epoch 193/200\n",
            "43/43 - 0s - loss: 0.2224 - accuracy: 0.9146 - 138ms/epoch - 3ms/step\n",
            "Epoch 194/200\n",
            "43/43 - 0s - loss: 0.1938 - accuracy: 0.9227 - 135ms/epoch - 3ms/step\n",
            "Epoch 195/200\n",
            "43/43 - 0s - loss: 0.1548 - accuracy: 0.9404 - 141ms/epoch - 3ms/step\n",
            "Epoch 196/200\n",
            "43/43 - 0s - loss: 0.1349 - accuracy: 0.9514 - 137ms/epoch - 3ms/step\n",
            "Epoch 197/200\n",
            "43/43 - 0s - loss: 0.1800 - accuracy: 0.9345 - 158ms/epoch - 4ms/step\n",
            "Epoch 198/200\n",
            "43/43 - 0s - loss: 0.2302 - accuracy: 0.9124 - 148ms/epoch - 3ms/step\n",
            "Epoch 199/200\n",
            "43/43 - 0s - loss: 0.4600 - accuracy: 0.8550 - 141ms/epoch - 3ms/step\n",
            "Epoch 200/200\n",
            "43/43 - 0s - loss: 0.4278 - accuracy: 0.8506 - 147ms/epoch - 3ms/step\n"
          ]
        },
        {
          "output_type": "execute_result",
          "data": {
            "text/plain": [
              "<keras.callbacks.History at 0x7f5e2633ccd0>"
            ]
          },
          "metadata": {},
          "execution_count": 37
        }
      ]
    },
    {
      "cell_type": "code",
      "metadata": {
        "id": "RES1PSUP9I02",
        "colab": {
          "base_uri": "https://localhost:8080/"
        },
        "outputId": "affbef85-2eec-4fba-dc66-29eb29713934"
      },
      "source": [
        "# Quantify model\n",
        "model_loss, model_accuracy = model.evaluate(\n",
        "    X_test_scaled, y_test_categorical, verbose=2)\n",
        "print(\n",
        "    f\"Normal Neural Network - Loss: {model_loss}, Accuracy: {model_accuracy*100}%\")"
      ],
      "execution_count": 38,
      "outputs": [
        {
          "output_type": "stream",
          "name": "stdout",
          "text": [
            "8/8 - 0s - loss: 1.9606 - accuracy: 0.6667 - 174ms/epoch - 22ms/step\n",
            "Normal Neural Network - Loss: 1.9606287479400635, Accuracy: 66.66666865348816%\n"
          ]
        }
      ]
    },
    {
      "cell_type": "markdown",
      "metadata": {
        "id": "4_iL5VY31FF1"
      },
      "source": [
        "# Charts"
      ]
    },
    {
      "cell_type": "code",
      "metadata": {
        "id": "HoY2NpyZyG9c",
        "colab": {
          "base_uri": "https://localhost:8080/",
          "height": 716
        },
        "outputId": "d2f9c827-06f6-4ef6-dc12-7dd1d985ffb3"
      },
      "source": [
        "wine.hist(figsize=(17,12),color='Red')\n",
        "plt.show()"
      ],
      "execution_count": 39,
      "outputs": [
        {
          "output_type": "display_data",
          "data": {
            "image/png": "[encoded data removed]",
            "text/plain": [
              "<Figure size 1224x864 with 12 Axes>"
            ]
          },
          "metadata": {
            "needs_background": "light"
          }
        }
      ]
    },
    {
      "cell_type": "code",
      "metadata": {
        "id": "OfcCcpaU6OSq",
        "colab": {
          "base_uri": "https://localhost:8080/",
          "height": 264
        },
        "outputId": "01e9fa8a-0b41-4703-a845-4f0b43a1d055"
      },
      "source": [
        "explode = (0.05, 0.05, 0.05, 0.05, .05, .05)\n",
        "pie_chart_data = wine.groupby('quality')['quality'].sum().plot(kind = \"pie\", autopct=\"%1.0f%%\", explode=explode, shadow=True, startangle=140)\n",
        "pie_chart_data\n",
        "plt.title(\"Wine Quality\")\n",
        "\n",
        "# Save the figure\n",
        "plt.savefig(\"Pie Chart is for  average votes as per Genre.png\")\n",
        "plt.show()"
      ],
      "execution_count": 40,
      "outputs": [
        {
          "output_type": "display_data",
          "data": {
            "image/png": "[encoded data removed]",
            "text/plain": [
              "<Figure size 432x288 with 1 Axes>"
            ]
          },
          "metadata": {}
        }
      ]
    },
    {
      "cell_type": "code",
      "metadata": {
        "id": "I0y9ikGJ7tvM",
        "colab": {
          "base_uri": "https://localhost:8080/",
          "height": 1000
        },
        "outputId": "e32168e1-7767-48b7-8e7a-63ccc5c4369b"
      },
      "source": [
        "corr = wine[wine.columns].corr()\n",
        "plt.figure(figsize=(15, 15))\n",
        "sns.set(font_scale=1.3)\n",
        "sns.heatmap(corr, cmap=\"seismic\", annot = True, vmin=0, vmax=0)\n",
        "plt.title('Heatmap for Correlation of Parameters', fontdict={'fontsize':30}, pad=12)\n",
        "plt.show()"
      ],
      "execution_count": 41,
      "outputs": [
        {
          "output_type": "display_data",
          "data": {
            "image/png": "[encoded data removed]",
            "text/plain": [
              "<Figure size 1080x1080 with 2 Axes>"
            ]
          },
          "metadata": {
            "needs_background": "light"
          }
        }
      ]
    },
    {
      "cell_type": "code",
      "metadata": {
        "id": "4RBNPJS87ne9"
      },
      "source": [
        ""
      ],
      "execution_count": 41,
      "outputs": []
    }
  ]
}